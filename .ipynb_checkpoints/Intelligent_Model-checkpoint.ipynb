{
 "cells": [
  {
   "cell_type": "markdown",
   "metadata": {},
   "source": [
    "# Intelligent Model: Random Forest Classifier"
   ]
  },
  {
   "cell_type": "code",
   "execution_count": null,
   "metadata": {},
   "outputs": [],
   "source": [
    "import pandas as pd"
   ]
  },
  {
   "cell_type": "markdown",
   "metadata": {},
   "source": [
    "### Read in query outputs to dataframes"
   ]
  },
  {
   "cell_type": "code",
   "execution_count": null,
   "metadata": {},
   "outputs": [],
   "source": [
    "crime_df = pd.read_csv('crime_query.csv')\n",
    "label_df = pd.read_csv('label_query.csv')\n",
    "h_df = pd.read_csv('hosp_query.csv')\n",
    "f_df = pd.read_csv('fire_query.csv')\n",
    "pop_df = pd.read_csv('census_populations.csv')"
   ]
  },
  {
   "cell_type": "code",
   "execution_count": null,
   "metadata": {
    "scrolled": false
   },
   "outputs": [],
   "source": [
    "crime_df.head().T"
   ]
  },
  {
   "cell_type": "markdown",
   "metadata": {},
   "source": [
    "### Get crime count by county and join to crime_df"
   ]
  },
  {
   "cell_type": "code",
   "execution_count": null,
   "metadata": {},
   "outputs": [],
   "source": [
    "tmp_df4 = crime_df.groupby(['county']).incident_id.agg('count')\n",
    "tmp_df4 = tmp_df4.to_frame().reset_index()\n",
    "tmp_df4 = tmp_df4.rename({'incident_id': 'crime_cnt'}, axis='columns')\n",
    "tmp_df4"
   ]
  },
  {
   "cell_type": "code",
   "execution_count": null,
   "metadata": {},
   "outputs": [],
   "source": [
    "crime_df = crime_df.join(tmp_df4.set_index('county'), on='county')"
   ]
  },
  {
   "cell_type": "code",
   "execution_count": null,
   "metadata": {
    "scrolled": false
   },
   "outputs": [],
   "source": [
    "crime_df.head().T"
   ]
  },
  {
   "cell_type": "markdown",
   "metadata": {},
   "source": [
    "### Get hospital and bed counts by county and join to h_df"
   ]
  },
  {
   "cell_type": "code",
   "execution_count": null,
   "metadata": {},
   "outputs": [],
   "source": [
    "h_df.head()"
   ]
  },
  {
   "cell_type": "code",
   "execution_count": null,
   "metadata": {},
   "outputs": [],
   "source": [
    "h_df['beds'] = h_df['beds'].clip_lower(1)"
   ]
  },
  {
   "cell_type": "code",
   "execution_count": null,
   "metadata": {},
   "outputs": [],
   "source": [
    "tmp_df = h_df.groupby(['county']).hosp_id.agg('count')\n",
    "tmp_df = tmp_df.to_frame().reset_index()\n",
    "tmp_df = tmp_df.rename({'hosp_id': 'hosp_cnt'}, axis='columns')\n",
    "tmp_df"
   ]
  },
  {
   "cell_type": "code",
   "execution_count": null,
   "metadata": {},
   "outputs": [],
   "source": [
    "tmp_df2 = h_df.groupby(['county']).beds.agg('sum')\n",
    "tmp_df2 = tmp_df2.to_frame().reset_index()\n",
    "tmp_df2 = tmp_df2.rename({'beds': 'bed_cnt'}, axis='columns')\n",
    "tmp_df2"
   ]
  },
  {
   "cell_type": "code",
   "execution_count": null,
   "metadata": {},
   "outputs": [],
   "source": [
    "h_df = tmp_df.join(tmp_df2.set_index('county'), on='county')\n",
    "h_df"
   ]
  },
  {
   "cell_type": "markdown",
   "metadata": {},
   "source": [
    "### Get fire station count by county and join to f_df"
   ]
  },
  {
   "cell_type": "code",
   "execution_count": null,
   "metadata": {},
   "outputs": [],
   "source": [
    "f_df.head()"
   ]
  },
  {
   "cell_type": "code",
   "execution_count": null,
   "metadata": {},
   "outputs": [],
   "source": [
    "tmp_df3 = f_df.groupby(['county']).fire_id.agg('count')\n",
    "tmp_df3 = tmp_df3.to_frame().reset_index()\n",
    "tmp_df3 = tmp_df3.rename({'fire_id': 'fire_cnt'}, axis='columns')\n",
    "tmp_df3"
   ]
  },
  {
   "cell_type": "markdown",
   "metadata": {},
   "source": [
    "### Merge hospital dataframe and fire station dataframe"
   ]
  },
  {
   "cell_type": "code",
   "execution_count": null,
   "metadata": {},
   "outputs": [],
   "source": [
    "hf_df = tmp_df3.join(h_df.set_index('county'), on='county')\n",
    "hf_df"
   ]
  },
  {
   "cell_type": "markdown",
   "metadata": {},
   "source": [
    "### Join to training dataframe"
   ]
  },
  {
   "cell_type": "code",
   "execution_count": null,
   "metadata": {},
   "outputs": [],
   "source": [
    "train_df = crime_df.join(hf_df.set_index('county'), on='county')"
   ]
  },
  {
   "cell_type": "code",
   "execution_count": null,
   "metadata": {},
   "outputs": [],
   "source": [
    "train_df.head(3).T"
   ]
  },
  {
   "cell_type": "code",
   "execution_count": null,
   "metadata": {},
   "outputs": [],
   "source": [
    "train_df.info()"
   ]
  },
  {
   "cell_type": "markdown",
   "metadata": {},
   "source": [
    "### Get crime count by county for label_df"
   ]
  },
  {
   "cell_type": "code",
   "execution_count": null,
   "metadata": {},
   "outputs": [],
   "source": [
    "tmp_df5 = label_df.groupby(['county']).incident_id.agg('count')\n",
    "tmp_df5 = tmp_df5.to_frame().reset_index()\n",
    "tmp_df5 = tmp_df5.rename({'incident_id': 'crime_cnt'}, axis='columns')\n",
    "tmp_df5"
   ]
  },
  {
   "cell_type": "markdown",
   "metadata": {},
   "source": [
    "### Join to testing dataframe"
   ]
  },
  {
   "cell_type": "code",
   "execution_count": null,
   "metadata": {},
   "outputs": [],
   "source": [
    "label_df = label_df.join(tmp_df5.set_index('county'), on='county')"
   ]
  },
  {
   "cell_type": "code",
   "execution_count": null,
   "metadata": {},
   "outputs": [],
   "source": [
    "label_df.head().T"
   ]
  },
  {
   "cell_type": "markdown",
   "metadata": {},
   "source": [
    "### Join hospital and fire station counts to testing dataframe"
   ]
  },
  {
   "cell_type": "code",
   "execution_count": null,
   "metadata": {},
   "outputs": [],
   "source": [
    "test_df = label_df.join(hf_df.set_index('county'), on='county')"
   ]
  },
  {
   "cell_type": "code",
   "execution_count": null,
   "metadata": {
    "scrolled": false
   },
   "outputs": [],
   "source": [
    "test_df.head(3).T"
   ]
  },
  {
   "cell_type": "code",
   "execution_count": null,
   "metadata": {
    "scrolled": false
   },
   "outputs": [],
   "source": [
    "test_df.info()"
   ]
  },
  {
   "cell_type": "markdown",
   "metadata": {},
   "source": [
    "### Bring in population feature"
   ]
  },
  {
   "cell_type": "code",
   "execution_count": null,
   "metadata": {},
   "outputs": [],
   "source": [
    "pop_df.head()"
   ]
  },
  {
   "cell_type": "code",
   "execution_count": null,
   "metadata": {},
   "outputs": [],
   "source": [
    "pop_df['county'] = pop_df['county'].str.upper()"
   ]
  },
  {
   "cell_type": "code",
   "execution_count": null,
   "metadata": {},
   "outputs": [],
   "source": [
    "pop_df.head()"
   ]
  },
  {
   "cell_type": "code",
   "execution_count": null,
   "metadata": {
    "scrolled": true
   },
   "outputs": [],
   "source": [
    "train_df =pd.merge(train_df, pop_df, how = 'outer', on=['county','year'])\n",
    "train_df"
   ]
  },
  {
   "cell_type": "code",
   "execution_count": null,
   "metadata": {},
   "outputs": [],
   "source": [
    "train_df.dropna(axis=0, subset=['incident_id'], inplace=True)"
   ]
  },
  {
   "cell_type": "code",
   "execution_count": null,
   "metadata": {
    "scrolled": true
   },
   "outputs": [],
   "source": [
    "train_df"
   ]
  },
  {
   "cell_type": "code",
   "execution_count": null,
   "metadata": {},
   "outputs": [],
   "source": [
    "train_df.info()"
   ]
  },
  {
   "cell_type": "code",
   "execution_count": null,
   "metadata": {},
   "outputs": [],
   "source": [
    "test_df =pd.merge(test_df, pop_df, how = 'outer', on=['county','year'])\n",
    "test_df"
   ]
  },
  {
   "cell_type": "code",
   "execution_count": null,
   "metadata": {},
   "outputs": [],
   "source": [
    "test_df.dropna(axis=0, subset=['incident_id'], inplace=True)"
   ]
  },
  {
   "cell_type": "code",
   "execution_count": null,
   "metadata": {},
   "outputs": [],
   "source": [
    "test_df.info()"
   ]
  },
  {
   "cell_type": "markdown",
   "metadata": {},
   "source": [
    "## Pass training and testing dataframes through feature engineering script"
   ]
  },
  {
   "cell_type": "code",
   "execution_count": null,
   "metadata": {},
   "outputs": [],
   "source": [
    "from Features_Script import feature_engineering\n",
    "\n",
    "trn_df, tst_df = feature_engineering(train_df, test_df)"
   ]
  },
  {
   "cell_type": "markdown",
   "metadata": {},
   "source": [
    "### Do the feature engineering manually in jupyter"
   ]
  },
  {
   "cell_type": "code",
   "execution_count": null,
   "metadata": {},
   "outputs": [],
   "source": [
    "# Drop NA in victim age column (<2%)\n",
    "train_df.dropna(axis=0, subset=['age_num'], inplace=True)\n",
    "\n",
    "# Drop NA in hospital_cnt column (<2%)\n",
    "train_df.dropna(axis=0, subset=['hosp_cnt'], inplace=True)\n",
    "\n",
    "# Drop NA in population column (<2%)\n",
    "train_df.dropna(axis=0, subset=['population'], inplace=True)\n",
    "\n",
    "# Create Ratio Columns\n",
    "train_df['crime_pop_ratio'] = train_df['crime_cnt'] / train_df['population']\n",
    "train_df['beds_pop_ratio'] = train_df['bed_cnt'] / train_df['population']\n",
    "train_df['beds_crime_ratio'] = train_df['bed_cnt'] / train_df['crime_cnt']\n",
    "train_df['fire_pop_ratio'] = train_df['fire_cnt'] / train_df['population']\n",
    "train_df['fire_crime_ratio'] = train_df['fire_cnt'] / train_df['crime_cnt']\n",
    "\n",
    "# Reduce df to only desired features to train/test model\n",
    "train_df = train_df[['age_num', 'victim_sex', 'offense_category', 'location_id', 'population_description',\n",
    "                     'officers', 'civilians', 'crime_pop_ratio', 'beds_pop_ratio', 'beds_crime_ratio',\n",
    "                     'fire_pop_ratio', 'fire_crime_ratio', 'county']]\n",
    "\n",
    "# Dummize features\n",
    "train_df = pd.get_dummies(train_df, columns=['victim_sex', 'offense_category', 'location_id', 'population_description'])"
   ]
  },
  {
   "cell_type": "code",
   "execution_count": null,
   "metadata": {},
   "outputs": [],
   "source": [
    "# Drop NA in victim age column (<2%)\n",
    "test_df.dropna(axis=0, subset=['age_num'], inplace=True)\n",
    "\n",
    "# Drop NA in hospital_cnt column (<2%)\n",
    "test_df.dropna(axis=0, subset=['hosp_cnt'], inplace=True)\n",
    "\n",
    "# Drop NA in population column (<2%)\n",
    "test_df.dropna(axis=0, subset=['population'], inplace=True)\n",
    "\n",
    "# Create Ratio Columns\n",
    "test_df['crime_pop_ratio'] = test_df['crime_cnt'] / test_df['population']\n",
    "test_df['beds_pop_ratio'] = test_df['bed_cnt'] / test_df['population']\n",
    "test_df['beds_crime_ratio'] = test_df['bed_cnt'] / test_df['crime_cnt']\n",
    "test_df['fire_pop_ratio'] = test_df['fire_cnt'] / test_df['population']\n",
    "test_df['fire_crime_ratio'] = test_df['fire_cnt'] / test_df['crime_cnt']\n",
    "\n",
    "# Reduce df to only desired features to train/test model\n",
    "test_df = test_df[['age_num', 'victim_sex', 'offense_category', 'location_id', 'population_description',\n",
    "                     'officers', 'civilians', 'crime_pop_ratio', 'beds_pop_ratio', 'beds_crime_ratio',\n",
    "                     'fire_pop_ratio', 'fire_crime_ratio', 'county']]\n",
    "\n",
    "# Dummize features\n",
    "test_df = pd.get_dummies(test_df, columns=['victim_sex', 'offense_category', 'location_id', 'population_description'])"
   ]
  },
  {
   "cell_type": "markdown",
   "metadata": {},
   "source": [
    "### Confirm script and manual produce identical results"
   ]
  },
  {
   "cell_type": "code",
   "execution_count": null,
   "metadata": {},
   "outputs": [],
   "source": [
    "train_df.equals(trn_df)"
   ]
  },
  {
   "cell_type": "code",
   "execution_count": null,
   "metadata": {},
   "outputs": [],
   "source": [
    "test_df.equals(tst_df)"
   ]
  },
  {
   "cell_type": "markdown",
   "metadata": {},
   "source": [
    "### Split data into training and testing sets"
   ]
  },
  {
   "cell_type": "code",
   "execution_count": null,
   "metadata": {},
   "outputs": [],
   "source": [
    "y_train = trn_df.pop('county').values\n",
    "X_train = trn_df.values\n",
    "y_test = tst_df.pop('county').values\n",
    "X_test = tst_df.values"
   ]
  },
  {
   "cell_type": "markdown",
   "metadata": {},
   "source": [
    "### Confirm shapes match"
   ]
  },
  {
   "cell_type": "code",
   "execution_count": null,
   "metadata": {},
   "outputs": [],
   "source": [
    "print('Training Features Shape:', X_train.shape)\n",
    "print('Training Labels Shape:', y_train.shape)\n",
    "print('Testing Features Shape:', X_test.shape)\n",
    "print('Testing Labels Shape:', y_test.shape)"
   ]
  },
  {
   "cell_type": "markdown",
   "metadata": {},
   "source": [
    "## Random Forest Classifier"
   ]
  },
  {
   "cell_type": "code",
   "execution_count": null,
   "metadata": {},
   "outputs": [],
   "source": [
    "from sklearn.ensemble import RandomForestClassifier\n",
    "from sklearn.metrics import accuracy_score, precision_score, recall_score"
   ]
  },
  {
   "cell_type": "markdown",
   "metadata": {},
   "source": [
    "### Train Model"
   ]
  },
  {
   "cell_type": "code",
   "execution_count": null,
   "metadata": {},
   "outputs": [],
   "source": [
    "clf = RandomForestClassifier(oob_score=True, n_estimators=100, max_depth=50, max_features='auto')\n",
    "clf.fit(X_train, y_train)"
   ]
  },
  {
   "cell_type": "markdown",
   "metadata": {},
   "source": [
    "### Get Predictions"
   ]
  },
  {
   "cell_type": "code",
   "execution_count": null,
   "metadata": {},
   "outputs": [],
   "source": [
    "preds = clf.predict(X_test)\n",
    "proba_preds = clf.predict_proba(X_test)"
   ]
  },
  {
   "cell_type": "markdown",
   "metadata": {},
   "source": [
    "### Calculate Scores"
   ]
  },
  {
   "cell_type": "code",
   "execution_count": null,
   "metadata": {},
   "outputs": [],
   "source": [
    "# calculate scores\n",
    "precision_micro = precision_score(y_test, preds, average = 'micro')\n",
    "precision_weighted = precision_score(y_test, preds, average = 'weighted')\n",
    "\n",
    "recall_micro = recall_score(y_test, preds, average = 'micro')\n",
    "recall_weighted = recall_score(y_test, preds, average = 'weighted')\n",
    "\n",
    "F_1_micro = 2 / ((1/precision_micro) + (1/recall_micro))\n",
    "F_1_weighted = 2 / ((1/precision_weighted) + (1/recall_weighted))\n",
    "\n",
    "oob=clf.oob_score_\n",
    "acc = accuracy_score(y_test, preds)\n",
    "\n",
    "\n",
    "print('Precision Scores:', precision_micro, precision_weighted)\n",
    "print('Recall Scores:', recall_micro, recall_weighted)\n",
    "print('F 1 Scores:', F_1_micro, F_1_weighted)\n",
    "print('oob Score:', oob)\n",
    "print('Accuracy Score:', acc)"
   ]
  },
  {
   "cell_type": "markdown",
   "metadata": {},
   "source": [
    "### Feature Importances"
   ]
  },
  {
   "cell_type": "code",
   "execution_count": null,
   "metadata": {},
   "outputs": [],
   "source": [
    "import operator\n",
    "feats = {} # a dict to hold feature_name: feature_importance\n",
    "for feature, importance in zip(trn_df.columns, clf.feature_importances_):\n",
    "    feats[feature] = importance\n",
    "feats = sorted(feats.items(), key = operator.itemgetter(1), reverse=True)\n",
    "feats"
   ]
  }
 ],
 "metadata": {
  "kernelspec": {
   "display_name": "Python 3",
   "language": "python",
   "name": "python3"
  },
  "language_info": {
   "codemirror_mode": {
    "name": "ipython",
    "version": 3
   },
   "file_extension": ".py",
   "mimetype": "text/x-python",
   "name": "python",
   "nbconvert_exporter": "python",
   "pygments_lexer": "ipython3",
   "version": "3.6.4"
  }
 },
 "nbformat": 4,
 "nbformat_minor": 2
}
