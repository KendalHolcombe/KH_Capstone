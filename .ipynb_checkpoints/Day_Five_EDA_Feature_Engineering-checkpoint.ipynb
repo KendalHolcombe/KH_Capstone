{
 "cells": [
  {
   "cell_type": "code",
   "execution_count": 1,
   "metadata": {},
   "outputs": [],
   "source": [
    "import numpy as np\n",
    "import pandas as pd\n",
    "import psycopg2"
   ]
  },
  {
   "cell_type": "code",
   "execution_count": 2,
   "metadata": {},
   "outputs": [],
   "source": [
    "import json\n",
    "\n",
    "with open('config.json') as f:\n",
    "    conf = json.load(f)\n",
    "    host = conf['host']\n",
    "    database = conf['database']\n",
    "    user = conf['user']\n",
    "    passw = conf['passw']"
   ]
  },
  {
   "cell_type": "code",
   "execution_count": 3,
   "metadata": {},
   "outputs": [],
   "source": [
    "conn_str = \"host={} dbname={} user={} password={}\".format(host, database, user, passw)\n",
    "conn = psycopg2.connect(conn_str)"
   ]
  },
  {
   "cell_type": "code",
   "execution_count": 4,
   "metadata": {},
   "outputs": [],
   "source": [
    "query = '''\n",
    "SELECT      DISTINCT inc.incident_id,\n",
    "            date_part('year',inc.incident_date),\n",
    "            vic.age_num,\n",
    "            vic.sex_code AS VICTIM_SEX,\n",
    "            oft.offense_category_name AS OFFENSE_CATEGORY,\n",
    "            ori.countyname AS COUNTY\n",
    "            \n",
    "FROM        nibrs_victim as vic\n",
    "JOIN        nibrs_offense as off\n",
    "ON          off.incident_id = vic.incident_id\n",
    "JOIN        nibrs_offense_type as oft\n",
    "ON          oft.offense_type_id = off.offense_type_id\n",
    "JOIN        nibrs_incident as inc\n",
    "ON          inc.incident_id = vic.incident_id\n",
    "JOIN        cde_agencies as ags\n",
    "ON          ags.agency_id = inc.agency_id\n",
    "JOIN        ori_to_fips as ori\n",
    "ON          ori.ori9 = ags.ori\n",
    "\n",
    "WHERE       vic.victim_type_id = 4\n",
    "AND         inc.incident_date BETWEEN '2016-01-01' AND '2016-12-31';\n",
    "'''"
   ]
  },
  {
   "cell_type": "code",
   "execution_count": 5,
   "metadata": {},
   "outputs": [
    {
     "data": {
      "text/html": [
       "<div>\n",
       "<style scoped>\n",
       "    .dataframe tbody tr th:only-of-type {\n",
       "        vertical-align: middle;\n",
       "    }\n",
       "\n",
       "    .dataframe tbody tr th {\n",
       "        vertical-align: top;\n",
       "    }\n",
       "\n",
       "    .dataframe thead th {\n",
       "        text-align: right;\n",
       "    }\n",
       "</style>\n",
       "<table border=\"1\" class=\"dataframe\">\n",
       "  <thead>\n",
       "    <tr style=\"text-align: right;\">\n",
       "      <th></th>\n",
       "      <th>0</th>\n",
       "      <th>1</th>\n",
       "      <th>2</th>\n",
       "    </tr>\n",
       "  </thead>\n",
       "  <tbody>\n",
       "    <tr>\n",
       "      <th>incident_id</th>\n",
       "      <td>87264241</td>\n",
       "      <td>87264244</td>\n",
       "      <td>87264248</td>\n",
       "    </tr>\n",
       "    <tr>\n",
       "      <th>date_part</th>\n",
       "      <td>2016</td>\n",
       "      <td>2016</td>\n",
       "      <td>2016</td>\n",
       "    </tr>\n",
       "    <tr>\n",
       "      <th>age_num</th>\n",
       "      <td>59</td>\n",
       "      <td>50</td>\n",
       "      <td>26</td>\n",
       "    </tr>\n",
       "    <tr>\n",
       "      <th>victim_sex</th>\n",
       "      <td>F</td>\n",
       "      <td>M</td>\n",
       "      <td>F</td>\n",
       "    </tr>\n",
       "    <tr>\n",
       "      <th>offense_category</th>\n",
       "      <td>Larceny/Theft Offenses</td>\n",
       "      <td>Fraud Offenses</td>\n",
       "      <td>Larceny/Theft Offenses</td>\n",
       "    </tr>\n",
       "    <tr>\n",
       "      <th>county</th>\n",
       "      <td>BURNET</td>\n",
       "      <td>BURNET</td>\n",
       "      <td>BURNET</td>\n",
       "    </tr>\n",
       "  </tbody>\n",
       "</table>\n",
       "</div>"
      ],
      "text/plain": [
       "                                       0               1  \\\n",
       "incident_id                     87264241        87264244   \n",
       "date_part                           2016            2016   \n",
       "age_num                               59              50   \n",
       "victim_sex                             F               M   \n",
       "offense_category  Larceny/Theft Offenses  Fraud Offenses   \n",
       "county                            BURNET          BURNET   \n",
       "\n",
       "                                       2  \n",
       "incident_id                     87264248  \n",
       "date_part                           2016  \n",
       "age_num                               26  \n",
       "victim_sex                             F  \n",
       "offense_category  Larceny/Theft Offenses  \n",
       "county                            BURNET  "
      ]
     },
     "execution_count": 5,
     "metadata": {},
     "output_type": "execute_result"
    }
   ],
   "source": [
    "df = pd.read_sql(query, con=conn)\n",
    "df.head(3).T"
   ]
  },
  {
   "cell_type": "code",
   "execution_count": 6,
   "metadata": {},
   "outputs": [],
   "source": [
    "age_df = df[['victim_sex','age_num']]"
   ]
  },
  {
   "cell_type": "code",
   "execution_count": 23,
   "metadata": {},
   "outputs": [
    {
     "data": {
      "image/png": "[encoded data removed]",
      "text/plain": [
       "<matplotlib.figure.Figure at 0x7f0c8b676940>"
      ]
     },
     "metadata": {},
     "output_type": "display_data"
    }
   ],
   "source": [
    "age_df.columns = ['victim_sex','age_num']\n",
    "\n",
    "axarr = age_df.hist(column='age_num', by ='victim_sex', bins=99, rwidth=0.9, sharex=True, sharey=True, layout = (1, 3), figsize=(15,5))\n",
    "\n",
    "for ax in axarr.flatten():\n",
    "    ax.set_xlabel(\"Age\")\n",
    "    ax.set_ylabel(\"Victim Count\")"
   ]
  },
  {
   "cell_type": "code",
   "execution_count": 9,
   "metadata": {},
   "outputs": [],
   "source": [
    "off_df = df[['victim_sex','offense_category']]"
   ]
  },
  {
   "cell_type": "code",
   "execution_count": 24,
   "metadata": {},
   "outputs": [
    {
     "data": {
      "image/png": "[encoded data removed]",
      "text/plain": [
       "<matplotlib.figure.Figure at 0x7f0c8c22df98>"
      ]
     },
     "metadata": {},
     "output_type": "display_data"
    }
   ],
   "source": [
    "off_df.columns = ['victim_sex','offense_category']\n",
    "\n",
    "axarr = off_df.hist(column='offense_category', by = 'victim_sex', bins=18, sharex=True, sharey=True, layout = (1, 3), figsize=(15,5))\n",
    "\n",
    "for ax in axarr.flatten():\n",
    "    ax.set_xlabel(\"Offense Category\")\n",
    "    ax.set_ylabel(\"Victim Count\")"
   ]
  },
  {
   "cell_type": "code",
   "execution_count": 11,
   "metadata": {},
   "outputs": [
    {
     "data": {
      "text/plain": [
       "F    82116\n",
       "M    77780\n",
       "U      920\n",
       "Name: victim_sex, dtype: int64"
      ]
     },
     "execution_count": 11,
     "metadata": {},
     "output_type": "execute_result"
    }
   ],
   "source": [
    "df['victim_sex'].value_counts()"
   ]
  },
  {
   "cell_type": "code",
   "execution_count": 14,
   "metadata": {},
   "outputs": [
    {
     "data": {
      "text/plain": [
       "array(['Larceny/Theft Offenses', 'Fraud Offenses', 'Assault Offenses',\n",
       "       'Destruction/Damage/Vandalism of Property',\n",
       "       'Burglary/Breaking & Entering', 'Counterfeiting/Forgery',\n",
       "       'Motor Vehicle Theft', 'Robbery', 'Drug/Narcotic Offenses',\n",
       "       'Sex Offenses', 'Extortion/Blackmail', 'Weapon Law Violations',\n",
       "       'Kidnapping/Abduction', 'Homicide Offenses',\n",
       "       'Pornography/Obscene Material', 'Arson',\n",
       "       'Stolen Property Offenses', 'Embezzlement', 'Human Trafficking',\n",
       "       'Bribery', 'Prostitution Offenses'], dtype=object)"
      ]
     },
     "execution_count": 14,
     "metadata": {},
     "output_type": "execute_result"
    }
   ],
   "source": [
    "df['offense_category'].unique()"
   ]
  },
  {
   "cell_type": "code",
   "execution_count": 15,
   "metadata": {},
   "outputs": [
    {
     "data": {
      "text/plain": [
       "victim_sex  offense_category                        \n",
       "F           Arson                                         111\n",
       "            Assault Offenses                            26105\n",
       "            Bribery                                         2\n",
       "            Burglary/Breaking & Entering                 7422\n",
       "            Counterfeiting/Forgery                        947\n",
       "            Destruction/Damage/Vandalism of Property     9988\n",
       "            Drug/Narcotic Offenses                        718\n",
       "            Embezzlement                                   26\n",
       "            Extortion/Blackmail                            19\n",
       "            Fraud Offenses                               6344\n",
       "            Homicide Offenses                              52\n",
       "            Human Trafficking                              17\n",
       "            Kidnapping/Abduction                          512\n",
       "            Larceny/Theft Offenses                      23535\n",
       "            Motor Vehicle Theft                          2428\n",
       "            Pornography/Obscene Material                   26\n",
       "            Robbery                                      1090\n",
       "            Sex Offenses                                 2512\n",
       "            Stolen Property Offenses                       66\n",
       "            Weapon Law Violations                         196\n",
       "M           Arson                                         123\n",
       "            Assault Offenses                            17222\n",
       "            Bribery                                         2\n",
       "            Burglary/Breaking & Entering                 8649\n",
       "            Counterfeiting/Forgery                        982\n",
       "            Destruction/Damage/Vandalism of Property     9342\n",
       "            Drug/Narcotic Offenses                        814\n",
       "            Embezzlement                                   49\n",
       "            Extortion/Blackmail                            23\n",
       "            Fraud Offenses                               5610\n",
       "            Homicide Offenses                             119\n",
       "            Human Trafficking                               2\n",
       "            Kidnapping/Abduction                          308\n",
       "            Larceny/Theft Offenses                      27161\n",
       "            Motor Vehicle Theft                          4477\n",
       "            Pornography/Obscene Material                   10\n",
       "            Prostitution Offenses                           5\n",
       "            Robbery                                      2118\n",
       "            Sex Offenses                                  386\n",
       "            Stolen Property Offenses                      138\n",
       "            Weapon Law Violations                         240\n",
       "U           Arson                                          41\n",
       "            Assault Offenses                               77\n",
       "            Burglary/Breaking & Entering                   51\n",
       "            Counterfeiting/Forgery                         56\n",
       "            Destruction/Damage/Vandalism of Property      112\n",
       "            Drug/Narcotic Offenses                         92\n",
       "            Embezzlement                                    4\n",
       "            Fraud Offenses                                116\n",
       "            Homicide Offenses                               3\n",
       "            Human Trafficking                               1\n",
       "            Kidnapping/Abduction                            1\n",
       "            Larceny/Theft Offenses                        248\n",
       "            Motor Vehicle Theft                            36\n",
       "            Robbery                                         8\n",
       "            Sex Offenses                                    3\n",
       "            Stolen Property Offenses                       28\n",
       "            Weapon Law Violations                          43\n",
       "Name: incident_id, dtype: int64"
      ]
     },
     "execution_count": 15,
     "metadata": {},
     "output_type": "execute_result"
    }
   ],
   "source": [
    "df.groupby(['victim_sex','offense_category']).incident_id.agg('count')"
   ]
  },
  {
   "cell_type": "code",
   "execution_count": null,
   "metadata": {},
   "outputs": [],
   "source": []
  }
 ],
 "metadata": {
  "kernelspec": {
   "display_name": "Python 3",
   "language": "python",
   "name": "python3"
  },
  "language_info": {
   "codemirror_mode": {
    "name": "ipython",
    "version": 3
   },
   "file_extension": ".py",
   "mimetype": "text/x-python",
   "name": "python",
   "nbconvert_exporter": "python",
   "pygments_lexer": "ipython3",
   "version": "3.6.4"
  }
 },
 "nbformat": 4,
 "nbformat_minor": 2
}
