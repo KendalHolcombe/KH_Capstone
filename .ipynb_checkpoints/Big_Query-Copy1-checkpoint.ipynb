{
 "cells": [
  {
   "cell_type": "code",
   "execution_count": 1,
   "metadata": {},
   "outputs": [],
   "source": [
    "import numpy as np\n",
    "import pandas as pd\n",
    "import psycopg2"
   ]
  },
  {
   "cell_type": "code",
   "execution_count": 2,
   "metadata": {},
   "outputs": [],
   "source": [
    "import json\n",
    "\n",
    "with open('config.json') as f:\n",
    "    conf = json.load(f)\n",
    "    host = conf['host']\n",
    "    database = conf['database']\n",
    "    user = conf['user']\n",
    "    passw = conf['passw']"
   ]
  },
  {
   "cell_type": "code",
   "execution_count": 3,
   "metadata": {},
   "outputs": [],
   "source": [
    "conn_str = \"host={} dbname={} user={} password={}\".format(host, database, user, passw)\n",
    "conn = psycopg2.connect(conn_str)"
   ]
  },
  {
   "cell_type": "code",
   "execution_count": 4,
   "metadata": {},
   "outputs": [],
   "source": [
    "query = '''\n",
    "SELECT      DISTINCT inc.incident_id AS INCIDENT_ID,\n",
    "            date_part('year',inc.incident_date),\n",
    "            vic.age_num,\n",
    "            vic.sex_code AS VICTIM_SEX,\n",
    "            oft.crime_against AS CRIME_AGAINST,\n",
    "            oft.offense_name AS OFFENSE,\n",
    "            oft.offense_category_name AS OFFENSE_CATEGORY,\n",
    "            off.location_id AS LOCATION_ID,\n",
    "            loc.location_name AS LOCATION_NAME,\n",
    "            ori.countyname AS COUNTY,\n",
    "            ags.population AS POPULATION,\n",
    "            ags.population_group_desc AS POPULATION_DESCRIPTION,\n",
    "            ags.total_officers AS OFFICERS,\n",
    "            ags.total_civilians AS CIVILIANS,\n",
    "            count(hosp.id) over (partition by hosp.county) AS HOSP_CNT,\n",
    "            sum(hosp.beds) over (partition by hosp.county) AS BED_CNT,\n",
    "            count(fire.id) over (partition by fire.county) AS FIRE_CNT\n",
    "            \n",
    "            \n",
    "FROM        nibrs_victim as vic\n",
    "JOIN        nibrs_offense as off\n",
    "ON          off.incident_id = vic.incident_id\n",
    "JOIN        nibrs_offense_type as oft\n",
    "ON          oft.offense_type_id = off.offense_type_id\n",
    "JOIN        nibrs_location_type as loc\n",
    "ON          off.location_id = loc.location_id\n",
    "JOIN        nibrs_incident as inc\n",
    "ON          inc.incident_id = vic.incident_id\n",
    "JOIN        cde_agencies as ags\n",
    "ON          ags.agency_id = inc.agency_id\n",
    "JOIN        ori_to_fips as ori\n",
    "ON          ori.ori9 = ags.ori\n",
    "JOIN        hospitals as hosp\n",
    "ON          hosp.county = ori.countyname\n",
    "JOIN        fire_houses as fire\n",
    "ON          fire.county = ori.countyname\n",
    "\n",
    "WHERE       vic.victim_type_id = 4\n",
    "AND         inc.incident_date BETWEEN '2014-01-01' AND '2016-12-31';\n",
    "'''"
   ]
  },
  {
   "cell_type": "code",
   "execution_count": null,
   "metadata": {},
   "outputs": [],
   "source": [
    "df = pd.read_sql(query, con=conn)\n",
    "df.head(3).T"
   ]
  },
  {
   "cell_type": "code",
   "execution_count": null,
   "metadata": {},
   "outputs": [],
   "source": []
  },
  {
   "cell_type": "code",
   "execution_count": null,
   "metadata": {},
   "outputs": [],
   "source": []
  },
  {
   "cell_type": "code",
   "execution_count": null,
   "metadata": {},
   "outputs": [],
   "source": [
    "select  id,\n",
    "        county,\n",
    "        count(*) over (partition by county) \n",
    "from    hospitals;"
   ]
  }
 ],
 "metadata": {
  "kernelspec": {
   "display_name": "Python 3",
   "language": "python",
   "name": "python3"
  },
  "language_info": {
   "codemirror_mode": {
    "name": "ipython",
    "version": 3
   },
   "file_extension": ".py",
   "mimetype": "text/x-python",
   "name": "python",
   "nbconvert_exporter": "python",
   "pygments_lexer": "ipython3",
   "version": "3.6.4"
  }
 },
 "nbformat": 4,
 "nbformat_minor": 2
}
