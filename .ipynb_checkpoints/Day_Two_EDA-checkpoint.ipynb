{
 "cells": [
  {
   "cell_type": "code",
   "execution_count": 1,
   "metadata": {},
   "outputs": [],
   "source": [
    "import numpy as np\n",
    "import pandas as pd\n",
    "import psycopg2"
   ]
  },
  {
   "cell_type": "markdown",
   "metadata": {},
   "source": [
    "### Connect to Postgres DB"
   ]
  },
  {
   "cell_type": "code",
   "execution_count": 2,
   "metadata": {},
   "outputs": [],
   "source": [
    "import json\n",
    "\n",
    "with open('config.json') as f:\n",
    "    conf = json.load(f)\n",
    "    host = conf['host']\n",
    "    database = conf['database']\n",
    "    user = conf['user']\n",
    "    passw = conf['passw']"
   ]
  },
  {
   "cell_type": "code",
   "execution_count": 3,
   "metadata": {},
   "outputs": [],
   "source": [
    "conn_str = \"host={} dbname={} user={} password={}\".format(host, database, user, passw)\n",
    "conn = psycopg2.connect(conn_str)"
   ]
  },
  {
   "cell_type": "markdown",
   "metadata": {},
   "source": [
    "### Initial Query"
   ]
  },
  {
   "cell_type": "code",
   "execution_count": null,
   "metadata": {},
   "outputs": [],
   "source": [
    "Vic_Off_query = \"SELECT vic.victim_id AS VICTIM_ID,\\\n",
    "            vic.incident_id AS INCIDENT_ID,\\\n",
    "            date_part('year',inc.incident_date),\\\n",
    "            vic.victim_type_id AS VICTIM_TYPE_ID,\\\n",
    "            ty.victim_type_name AS VICTIM_TYPE,\\\n",
    "            vic.age_range_low_num AS AGE_RANGE_LOW,\\\n",
    "            vic.age_range_high_num AS AGE_RANGE_HIGH,\\\n",
    "            vic.sex_code AS VICTIM_SEX,\\\n",
    "            oft.crime_against AS CRIME_AGAINST,\\\n",
    "            oft.offense_name AS OFFENSE,\\\n",
    "            oft.offense_category_name AS OFFENSE_CATEGORY,\\\n",
    "            oft.offense_group AS OFFENSE_GROUP,\\\n",
    "            ofr.offender_id AS OFFENDER_ID,\\\n",
    "            ofr.age_num AS OFFENDER_AGE,\\\n",
    "            ofr.sex_code AS OFFENDER_SEX,\\\n",
    "            off.location_id AS LOCATION_ID,\\\n",
    "            loc.location_name AS LOCATION_NAME,\\\n",
    "            inc.ddocname AS DOC_NAME,\\\n",
    "            ori.fips AS FIPS,\\\n",
    "            ori.countyname AS COUNTY,\\\n",
    "            ori.name AS ORI_NAME,\\\n",
    "            ags.population AS POPULATION,\\\n",
    "            ags.population_group_desc AS POPULATION DESCRIPTION,\\\n",
    "            ags.total_officers AS OFFICERS,\\\n",
    "            ags.total_civilians AS CIVILIANS\\\n",
    "            FROM nibrs_victim as vic\\\n",
    "            JOIN nibrs_victim_type as ty\\\n",
    "            ON vic.victim_type_id = ty.victim_type_id\\\n",
    "            JOIN nibrs_offender as ofr\\\n",
    "            ON ofr.incident_id = vic.incident_id\\\n",
    "            JOIN nibrs_offense as off\\\n",
    "            ON off.incident_id = vic.incident_id\\\n",
    "            JOIN nibrs_offense_type as oft\\\n",
    "            ON oft.offense_type_id = off.offense_type_id\\\n",
    "            JOIN nibrs_location_type as loc\\\n",
    "            ON off.location_id = loc.location_id\\\n",
    "            JOIN nibrs_incident as inc\\\n",
    "            ON inc.incident_id = vic.incident_id\\\n",
    "            JOIN cde_agencies as ags\\\n",
    "            ON ags.agency_id = inc.agency_id\\\n",
    "            JOIN ori_to_fips as ori\\\n",
    "            ON ori.ori9 = ags.ori\\\n",
    "            WHERE vic.victim_type_id = 4;\""
   ]
  },
  {
   "cell_type": "markdown",
   "metadata": {},
   "source": [
    "### Load into Pandas DataFrame"
   ]
  },
  {
   "cell_type": "code",
   "execution_count": 4,
   "metadata": {
    "scrolled": false
   },
   "outputs": [
    {
     "data": {
      "text/html": [
       "<div>\n",
       "<style scoped>\n",
       "    .dataframe tbody tr th:only-of-type {\n",
       "        vertical-align: middle;\n",
       "    }\n",
       "\n",
       "    .dataframe tbody tr th {\n",
       "        vertical-align: top;\n",
       "    }\n",
       "\n",
       "    .dataframe thead th {\n",
       "        text-align: right;\n",
       "    }\n",
       "</style>\n",
       "<table border=\"1\" class=\"dataframe\">\n",
       "  <thead>\n",
       "    <tr style=\"text-align: right;\">\n",
       "      <th></th>\n",
       "      <th>0</th>\n",
       "      <th>1</th>\n",
       "      <th>2</th>\n",
       "    </tr>\n",
       "  </thead>\n",
       "  <tbody>\n",
       "    <tr>\n",
       "      <th>victim_id</th>\n",
       "      <td>57023969</td>\n",
       "      <td>57023969</td>\n",
       "      <td>57023969</td>\n",
       "    </tr>\n",
       "    <tr>\n",
       "      <th>incident_id</th>\n",
       "      <td>52643345</td>\n",
       "      <td>52643345</td>\n",
       "      <td>52643345</td>\n",
       "    </tr>\n",
       "    <tr>\n",
       "      <th>victim_type_id</th>\n",
       "      <td>4</td>\n",
       "      <td>4</td>\n",
       "      <td>4</td>\n",
       "    </tr>\n",
       "    <tr>\n",
       "      <th>victim_type</th>\n",
       "      <td>Individual</td>\n",
       "      <td>Individual</td>\n",
       "      <td>Individual</td>\n",
       "    </tr>\n",
       "    <tr>\n",
       "      <th>age_range_low</th>\n",
       "      <td>NaN</td>\n",
       "      <td>NaN</td>\n",
       "      <td>NaN</td>\n",
       "    </tr>\n",
       "    <tr>\n",
       "      <th>age_range_high</th>\n",
       "      <td>NaN</td>\n",
       "      <td>NaN</td>\n",
       "      <td>NaN</td>\n",
       "    </tr>\n",
       "    <tr>\n",
       "      <th>victim_sex</th>\n",
       "      <td>M</td>\n",
       "      <td>M</td>\n",
       "      <td>M</td>\n",
       "    </tr>\n",
       "    <tr>\n",
       "      <th>crime_against</th>\n",
       "      <td>Property</td>\n",
       "      <td>Property</td>\n",
       "      <td>Property</td>\n",
       "    </tr>\n",
       "    <tr>\n",
       "      <th>offense</th>\n",
       "      <td>Theft of Motor Vehicle Parts or Accessories</td>\n",
       "      <td>Theft of Motor Vehicle Parts or Accessories</td>\n",
       "      <td>Theft of Motor Vehicle Parts or Accessories</td>\n",
       "    </tr>\n",
       "    <tr>\n",
       "      <th>offense_category</th>\n",
       "      <td>Larceny/Theft Offenses</td>\n",
       "      <td>Larceny/Theft Offenses</td>\n",
       "      <td>Larceny/Theft Offenses</td>\n",
       "    </tr>\n",
       "    <tr>\n",
       "      <th>offense_group</th>\n",
       "      <td>A</td>\n",
       "      <td>A</td>\n",
       "      <td>A</td>\n",
       "    </tr>\n",
       "    <tr>\n",
       "      <th>offender_id</th>\n",
       "      <td>59269093</td>\n",
       "      <td>59269093</td>\n",
       "      <td>59269093</td>\n",
       "    </tr>\n",
       "    <tr>\n",
       "      <th>offender_age</th>\n",
       "      <td>NaN</td>\n",
       "      <td>NaN</td>\n",
       "      <td>NaN</td>\n",
       "    </tr>\n",
       "    <tr>\n",
       "      <th>offender_sex</th>\n",
       "      <td>U</td>\n",
       "      <td>U</td>\n",
       "      <td>U</td>\n",
       "    </tr>\n",
       "    <tr>\n",
       "      <th>location_id</th>\n",
       "      <td>18</td>\n",
       "      <td>18</td>\n",
       "      <td>18</td>\n",
       "    </tr>\n",
       "    <tr>\n",
       "      <th>location_name</th>\n",
       "      <td>Parking/Drop Lot/Garage</td>\n",
       "      <td>Parking/Drop Lot/Garage</td>\n",
       "      <td>Parking/Drop Lot/Garage</td>\n",
       "    </tr>\n",
       "    <tr>\n",
       "      <th>ddocname</th>\n",
       "      <td>2010_07_TX2201200_100074401_INC_NIBRS</td>\n",
       "      <td>2010_07_TX2201200_100074401_INC_NIBRS</td>\n",
       "      <td>2010_07_TX2201200_100074401_INC_NIBRS</td>\n",
       "    </tr>\n",
       "    <tr>\n",
       "      <th>fips</th>\n",
       "      <td>48439</td>\n",
       "      <td>48439</td>\n",
       "      <td>48439</td>\n",
       "    </tr>\n",
       "    <tr>\n",
       "      <th>countyname</th>\n",
       "      <td>TARRANT</td>\n",
       "      <td>TARRANT</td>\n",
       "      <td>TARRANT</td>\n",
       "    </tr>\n",
       "    <tr>\n",
       "      <th>name</th>\n",
       "      <td>FORT WORTH POLICE DEPARTMENT</td>\n",
       "      <td>FORT WORTH POLICE DEPARTMENT</td>\n",
       "      <td>FORT WORTH POLICE DEPARTMENT</td>\n",
       "    </tr>\n",
       "  </tbody>\n",
       "</table>\n",
       "</div>"
      ],
      "text/plain": [
       "                                                            0  \\\n",
       "victim_id                                            57023969   \n",
       "incident_id                                          52643345   \n",
       "victim_type_id                                              4   \n",
       "victim_type                                        Individual   \n",
       "age_range_low                                             NaN   \n",
       "age_range_high                                            NaN   \n",
       "victim_sex                                                  M   \n",
       "crime_against                                        Property   \n",
       "offense           Theft of Motor Vehicle Parts or Accessories   \n",
       "offense_category                       Larceny/Theft Offenses   \n",
       "offense_group                                               A   \n",
       "offender_id                                          59269093   \n",
       "offender_age                                              NaN   \n",
       "offender_sex                                                U   \n",
       "location_id                                                18   \n",
       "location_name                         Parking/Drop Lot/Garage   \n",
       "ddocname                2010_07_TX2201200_100074401_INC_NIBRS   \n",
       "fips                                                    48439   \n",
       "countyname                                            TARRANT   \n",
       "name                             FORT WORTH POLICE DEPARTMENT   \n",
       "\n",
       "                                                            1  \\\n",
       "victim_id                                            57023969   \n",
       "incident_id                                          52643345   \n",
       "victim_type_id                                              4   \n",
       "victim_type                                        Individual   \n",
       "age_range_low                                             NaN   \n",
       "age_range_high                                            NaN   \n",
       "victim_sex                                                  M   \n",
       "crime_against                                        Property   \n",
       "offense           Theft of Motor Vehicle Parts or Accessories   \n",
       "offense_category                       Larceny/Theft Offenses   \n",
       "offense_group                                               A   \n",
       "offender_id                                          59269093   \n",
       "offender_age                                              NaN   \n",
       "offender_sex                                                U   \n",
       "location_id                                                18   \n",
       "location_name                         Parking/Drop Lot/Garage   \n",
       "ddocname                2010_07_TX2201200_100074401_INC_NIBRS   \n",
       "fips                                                    48439   \n",
       "countyname                                            TARRANT   \n",
       "name                             FORT WORTH POLICE DEPARTMENT   \n",
       "\n",
       "                                                            2  \n",
       "victim_id                                            57023969  \n",
       "incident_id                                          52643345  \n",
       "victim_type_id                                              4  \n",
       "victim_type                                        Individual  \n",
       "age_range_low                                             NaN  \n",
       "age_range_high                                            NaN  \n",
       "victim_sex                                                  M  \n",
       "crime_against                                        Property  \n",
       "offense           Theft of Motor Vehicle Parts or Accessories  \n",
       "offense_category                       Larceny/Theft Offenses  \n",
       "offense_group                                               A  \n",
       "offender_id                                          59269093  \n",
       "offender_age                                              NaN  \n",
       "offender_sex                                                U  \n",
       "location_id                                                18  \n",
       "location_name                         Parking/Drop Lot/Garage  \n",
       "ddocname                2010_07_TX2201200_100074401_INC_NIBRS  \n",
       "fips                                                    48439  \n",
       "countyname                                            TARRANT  \n",
       "name                             FORT WORTH POLICE DEPARTMENT  "
      ]
     },
     "execution_count": 4,
     "metadata": {},
     "output_type": "execute_result"
    }
   ],
   "source": [
    "Vic_Off_df = pd.read_csv('init_query.csv')\n",
    "Vic_Off_df.head(3).T"
   ]
  },
  {
   "cell_type": "code",
   "execution_count": 5,
   "metadata": {},
   "outputs": [
    {
     "name": "stdout",
     "output_type": "stream",
     "text": [
      "<class 'pandas.core.frame.DataFrame'>\n",
      "RangeIndex: 9870208 entries, 0 to 9870207\n",
      "Data columns (total 20 columns):\n",
      "victim_id           int64\n",
      "incident_id         int64\n",
      "victim_type_id      int64\n",
      "victim_type         object\n",
      "age_range_low       float64\n",
      "age_range_high      float64\n",
      "victim_sex          object\n",
      "crime_against       object\n",
      "offense             object\n",
      "offense_category    object\n",
      "offense_group       object\n",
      "offender_id         int64\n",
      "offender_age        float64\n",
      "offender_sex        object\n",
      "location_id         int64\n",
      "location_name       object\n",
      "ddocname            object\n",
      "fips                int64\n",
      "countyname          object\n",
      "name                object\n",
      "dtypes: float64(3), int64(6), object(11)\n",
      "memory usage: 1.5+ GB\n"
     ]
    }
   ],
   "source": [
    "Vic_Off_df.info()"
   ]
  },
  {
   "cell_type": "code",
   "execution_count": 8,
   "metadata": {
    "scrolled": false
   },
   "outputs": [],
   "source": [
    "Vic_Off_df = Vic_Off_df.drop_duplicates()"
   ]
  },
  {
   "cell_type": "code",
   "execution_count": 9,
   "metadata": {},
   "outputs": [
    {
     "name": "stdout",
     "output_type": "stream",
     "text": [
      "<class 'pandas.core.frame.DataFrame'>\n",
      "Int64Index: 1420867 entries, 0 to 9870201\n",
      "Data columns (total 20 columns):\n",
      "victim_id           1420867 non-null int64\n",
      "incident_id         1420867 non-null int64\n",
      "victim_type_id      1420867 non-null int64\n",
      "victim_type         1420867 non-null object\n",
      "age_range_low       219654 non-null float64\n",
      "age_range_high      219654 non-null float64\n",
      "victim_sex          1420867 non-null object\n",
      "crime_against       1420867 non-null object\n",
      "offense             1420867 non-null object\n",
      "offense_category    1420867 non-null object\n",
      "offense_group       1420867 non-null object\n",
      "offender_id         1420867 non-null int64\n",
      "offender_age        767652 non-null float64\n",
      "offender_sex        1090992 non-null object\n",
      "location_id         1420867 non-null int64\n",
      "location_name       1420867 non-null object\n",
      "ddocname            1420867 non-null object\n",
      "fips                1420867 non-null int64\n",
      "countyname          1420867 non-null object\n",
      "name                1420867 non-null object\n",
      "dtypes: float64(3), int64(6), object(11)\n",
      "memory usage: 227.6+ MB\n"
     ]
    }
   ],
   "source": [
    "Vic_Off_df.info()"
   ]
  },
  {
   "cell_type": "code",
   "execution_count": 10,
   "metadata": {},
   "outputs": [
    {
     "data": {
      "text/html": [
       "<div>\n",
       "<style scoped>\n",
       "    .dataframe tbody tr th:only-of-type {\n",
       "        vertical-align: middle;\n",
       "    }\n",
       "\n",
       "    .dataframe tbody tr th {\n",
       "        vertical-align: top;\n",
       "    }\n",
       "\n",
       "    .dataframe thead th {\n",
       "        text-align: right;\n",
       "    }\n",
       "</style>\n",
       "<table border=\"1\" class=\"dataframe\">\n",
       "  <thead>\n",
       "    <tr style=\"text-align: right;\">\n",
       "      <th></th>\n",
       "      <th>0</th>\n",
       "      <th>7</th>\n",
       "      <th>14</th>\n",
       "    </tr>\n",
       "  </thead>\n",
       "  <tbody>\n",
       "    <tr>\n",
       "      <th>victim_id</th>\n",
       "      <td>57023969</td>\n",
       "      <td>57023970</td>\n",
       "      <td>57023972</td>\n",
       "    </tr>\n",
       "    <tr>\n",
       "      <th>incident_id</th>\n",
       "      <td>52643345</td>\n",
       "      <td>52643346</td>\n",
       "      <td>52643348</td>\n",
       "    </tr>\n",
       "    <tr>\n",
       "      <th>victim_type_id</th>\n",
       "      <td>4</td>\n",
       "      <td>4</td>\n",
       "      <td>4</td>\n",
       "    </tr>\n",
       "    <tr>\n",
       "      <th>victim_type</th>\n",
       "      <td>Individual</td>\n",
       "      <td>Individual</td>\n",
       "      <td>Individual</td>\n",
       "    </tr>\n",
       "    <tr>\n",
       "      <th>age_range_low</th>\n",
       "      <td>NaN</td>\n",
       "      <td>NaN</td>\n",
       "      <td>NaN</td>\n",
       "    </tr>\n",
       "    <tr>\n",
       "      <th>age_range_high</th>\n",
       "      <td>NaN</td>\n",
       "      <td>NaN</td>\n",
       "      <td>NaN</td>\n",
       "    </tr>\n",
       "    <tr>\n",
       "      <th>victim_sex</th>\n",
       "      <td>M</td>\n",
       "      <td>F</td>\n",
       "      <td>F</td>\n",
       "    </tr>\n",
       "    <tr>\n",
       "      <th>crime_against</th>\n",
       "      <td>Property</td>\n",
       "      <td>Property</td>\n",
       "      <td>Property</td>\n",
       "    </tr>\n",
       "    <tr>\n",
       "      <th>offense</th>\n",
       "      <td>Theft of Motor Vehicle Parts or Accessories</td>\n",
       "      <td>Theft of Motor Vehicle Parts or Accessories</td>\n",
       "      <td>Theft From Motor Vehicle</td>\n",
       "    </tr>\n",
       "    <tr>\n",
       "      <th>offense_category</th>\n",
       "      <td>Larceny/Theft Offenses</td>\n",
       "      <td>Larceny/Theft Offenses</td>\n",
       "      <td>Larceny/Theft Offenses</td>\n",
       "    </tr>\n",
       "    <tr>\n",
       "      <th>offense_group</th>\n",
       "      <td>A</td>\n",
       "      <td>A</td>\n",
       "      <td>A</td>\n",
       "    </tr>\n",
       "    <tr>\n",
       "      <th>offender_id</th>\n",
       "      <td>59269093</td>\n",
       "      <td>59269094</td>\n",
       "      <td>59269096</td>\n",
       "    </tr>\n",
       "    <tr>\n",
       "      <th>offender_age</th>\n",
       "      <td>NaN</td>\n",
       "      <td>NaN</td>\n",
       "      <td>NaN</td>\n",
       "    </tr>\n",
       "    <tr>\n",
       "      <th>offender_sex</th>\n",
       "      <td>U</td>\n",
       "      <td>U</td>\n",
       "      <td>U</td>\n",
       "    </tr>\n",
       "    <tr>\n",
       "      <th>location_id</th>\n",
       "      <td>18</td>\n",
       "      <td>20</td>\n",
       "      <td>13</td>\n",
       "    </tr>\n",
       "    <tr>\n",
       "      <th>location_name</th>\n",
       "      <td>Parking/Drop Lot/Garage</td>\n",
       "      <td>Residence/Home</td>\n",
       "      <td>Highway/Road/Alley/Street/Sidewalk</td>\n",
       "    </tr>\n",
       "    <tr>\n",
       "      <th>ddocname</th>\n",
       "      <td>2010_07_TX2201200_100074401_INC_NIBRS</td>\n",
       "      <td>2010_07_TX2201200_100074405_INC_NIBRS</td>\n",
       "      <td>2010_07_TX2201200_100074408_INC_NIBRS</td>\n",
       "    </tr>\n",
       "    <tr>\n",
       "      <th>fips</th>\n",
       "      <td>48439</td>\n",
       "      <td>48439</td>\n",
       "      <td>48439</td>\n",
       "    </tr>\n",
       "    <tr>\n",
       "      <th>countyname</th>\n",
       "      <td>TARRANT</td>\n",
       "      <td>TARRANT</td>\n",
       "      <td>TARRANT</td>\n",
       "    </tr>\n",
       "    <tr>\n",
       "      <th>name</th>\n",
       "      <td>FORT WORTH POLICE DEPARTMENT</td>\n",
       "      <td>FORT WORTH POLICE DEPARTMENT</td>\n",
       "      <td>FORT WORTH POLICE DEPARTMENT</td>\n",
       "    </tr>\n",
       "  </tbody>\n",
       "</table>\n",
       "</div>"
      ],
      "text/plain": [
       "                                                           0   \\\n",
       "victim_id                                            57023969   \n",
       "incident_id                                          52643345   \n",
       "victim_type_id                                              4   \n",
       "victim_type                                        Individual   \n",
       "age_range_low                                             NaN   \n",
       "age_range_high                                            NaN   \n",
       "victim_sex                                                  M   \n",
       "crime_against                                        Property   \n",
       "offense           Theft of Motor Vehicle Parts or Accessories   \n",
       "offense_category                       Larceny/Theft Offenses   \n",
       "offense_group                                               A   \n",
       "offender_id                                          59269093   \n",
       "offender_age                                              NaN   \n",
       "offender_sex                                                U   \n",
       "location_id                                                18   \n",
       "location_name                         Parking/Drop Lot/Garage   \n",
       "ddocname                2010_07_TX2201200_100074401_INC_NIBRS   \n",
       "fips                                                    48439   \n",
       "countyname                                            TARRANT   \n",
       "name                             FORT WORTH POLICE DEPARTMENT   \n",
       "\n",
       "                                                           7   \\\n",
       "victim_id                                            57023970   \n",
       "incident_id                                          52643346   \n",
       "victim_type_id                                              4   \n",
       "victim_type                                        Individual   \n",
       "age_range_low                                             NaN   \n",
       "age_range_high                                            NaN   \n",
       "victim_sex                                                  F   \n",
       "crime_against                                        Property   \n",
       "offense           Theft of Motor Vehicle Parts or Accessories   \n",
       "offense_category                       Larceny/Theft Offenses   \n",
       "offense_group                                               A   \n",
       "offender_id                                          59269094   \n",
       "offender_age                                              NaN   \n",
       "offender_sex                                                U   \n",
       "location_id                                                20   \n",
       "location_name                                  Residence/Home   \n",
       "ddocname                2010_07_TX2201200_100074405_INC_NIBRS   \n",
       "fips                                                    48439   \n",
       "countyname                                            TARRANT   \n",
       "name                             FORT WORTH POLICE DEPARTMENT   \n",
       "\n",
       "                                                     14  \n",
       "victim_id                                      57023972  \n",
       "incident_id                                    52643348  \n",
       "victim_type_id                                        4  \n",
       "victim_type                                  Individual  \n",
       "age_range_low                                       NaN  \n",
       "age_range_high                                      NaN  \n",
       "victim_sex                                            F  \n",
       "crime_against                                  Property  \n",
       "offense                        Theft From Motor Vehicle  \n",
       "offense_category                 Larceny/Theft Offenses  \n",
       "offense_group                                         A  \n",
       "offender_id                                    59269096  \n",
       "offender_age                                        NaN  \n",
       "offender_sex                                          U  \n",
       "location_id                                          13  \n",
       "location_name        Highway/Road/Alley/Street/Sidewalk  \n",
       "ddocname          2010_07_TX2201200_100074408_INC_NIBRS  \n",
       "fips                                              48439  \n",
       "countyname                                      TARRANT  \n",
       "name                       FORT WORTH POLICE DEPARTMENT  "
      ]
     },
     "execution_count": 10,
     "metadata": {},
     "output_type": "execute_result"
    }
   ],
   "source": [
    "Vic_Off_df.head(3).T"
   ]
  },
  {
   "cell_type": "markdown",
   "metadata": {},
   "source": [
    "### Count of NaN's by column"
   ]
  },
  {
   "cell_type": "code",
   "execution_count": 11,
   "metadata": {},
   "outputs": [
    {
     "data": {
      "text/plain": [
       "victim_id                 0\n",
       "incident_id               0\n",
       "victim_type_id            0\n",
       "victim_type               0\n",
       "age_range_low       1201213\n",
       "age_range_high      1201213\n",
       "victim_sex                0\n",
       "crime_against             0\n",
       "offense                   0\n",
       "offense_category          0\n",
       "offense_group             0\n",
       "offender_id               0\n",
       "offender_age         653215\n",
       "offender_sex         329875\n",
       "location_id               0\n",
       "location_name             0\n",
       "ddocname                  0\n",
       "fips                      0\n",
       "countyname                0\n",
       "name                      0\n",
       "dtype: int64"
      ]
     },
     "execution_count": 11,
     "metadata": {},
     "output_type": "execute_result"
    }
   ],
   "source": [
    "Vic_Off_df.isna().sum()"
   ]
  },
  {
   "cell_type": "markdown",
   "metadata": {},
   "source": [
    "### Impute missing offender_sex as \"U\" (unknown)"
   ]
  },
  {
   "cell_type": "code",
   "execution_count": 12,
   "metadata": {},
   "outputs": [
    {
     "data": {
      "text/plain": [
       "M    617716\n",
       "U    248637\n",
       "F    224639\n",
       "Name: offender_sex, dtype: int64"
      ]
     },
     "execution_count": 12,
     "metadata": {},
     "output_type": "execute_result"
    }
   ],
   "source": [
    "Vic_Off_df.offender_sex.value_counts()"
   ]
  },
  {
   "cell_type": "code",
   "execution_count": 13,
   "metadata": {},
   "outputs": [],
   "source": [
    "Vic_Off_df['offender_sex'].fillna('U', inplace=True)"
   ]
  },
  {
   "cell_type": "code",
   "execution_count": 14,
   "metadata": {},
   "outputs": [
    {
     "data": {
      "text/plain": [
       "M    617716\n",
       "U    578512\n",
       "F    224639\n",
       "Name: offender_sex, dtype: int64"
      ]
     },
     "execution_count": 14,
     "metadata": {},
     "output_type": "execute_result"
    }
   ],
   "source": [
    "Vic_Off_df.offender_sex.value_counts()"
   ]
  },
  {
   "cell_type": "markdown",
   "metadata": {},
   "source": [
    "# Plot number of offenses by offender age"
   ]
  },
  {
   "cell_type": "code",
   "execution_count": 31,
   "metadata": {},
   "outputs": [
    {
     "data": {
      "text/plain": [
       "1.0      1831\n",
       "2.0        17\n",
       "3.0         7\n",
       "4.0        39\n",
       "5.0        87\n",
       "6.0       114\n",
       "7.0       226\n",
       "8.0       386\n",
       "9.0       746\n",
       "10.0     1743\n",
       "11.0     3264\n",
       "12.0     6301\n",
       "13.0    10122\n",
       "14.0    14696\n",
       "15.0    19975\n",
       "16.0    24180\n",
       "17.0    30164\n",
       "18.0    32427\n",
       "19.0    31793\n",
       "20.0    30873\n",
       "21.0    30628\n",
       "22.0    32488\n",
       "23.0    26344\n",
       "24.0    25861\n",
       "25.0    30754\n",
       "26.0    23260\n",
       "27.0    25557\n",
       "28.0    21497\n",
       "29.0    20253\n",
       "30.0    24061\n",
       "        ...  \n",
       "68.0      547\n",
       "69.0      468\n",
       "70.0      474\n",
       "71.0      300\n",
       "72.0      305\n",
       "73.0      267\n",
       "74.0      252\n",
       "75.0      286\n",
       "76.0      174\n",
       "77.0      166\n",
       "78.0      132\n",
       "79.0      120\n",
       "80.0      116\n",
       "81.0       96\n",
       "82.0       81\n",
       "83.0       71\n",
       "84.0       69\n",
       "85.0       49\n",
       "86.0       33\n",
       "87.0       38\n",
       "88.0      141\n",
       "89.0       22\n",
       "90.0       23\n",
       "91.0        5\n",
       "92.0        3\n",
       "93.0        2\n",
       "94.0        6\n",
       "95.0        3\n",
       "96.0        4\n",
       "98.0        4\n",
       "Name: offender_age, Length: 97, dtype: int64"
      ]
     },
     "execution_count": 31,
     "metadata": {},
     "output_type": "execute_result"
    }
   ],
   "source": [
    "OffAges = Vic_Off_df['offender_age'].value_counts().sort_index()\n",
    "OffAges"
   ]
  },
  {
   "cell_type": "code",
   "execution_count": 32,
   "metadata": {},
   "outputs": [
    {
     "data": {
      "image/png": "[encoded data removed]",
      "text/plain": [
       "<matplotlib.figure.Figure at 0x7f31a16e9978>"
      ]
     },
     "metadata": {},
     "output_type": "display_data"
    }
   ],
   "source": [
    "import matplotlib.pyplot as plt\n",
    "%matplotlib inline\n",
    "\n",
    "OffAges.plot.bar(figsize = (20,20))\n",
    "plt.title('Number of Offenses by Offender Age')\n",
    "plt.xlabel('Age')\n",
    "plt.ylabel('Offense Count')\n",
    "plt.show()"
   ]
  },
  {
   "cell_type": "markdown",
   "metadata": {},
   "source": [
    "# Plot Victim Count by Gender and County"
   ]
  },
  {
   "cell_type": "code",
   "execution_count": 21,
   "metadata": {},
   "outputs": [],
   "source": [
    "small_df = Vic_Off_df[['victim_sex','fips']]"
   ]
  },
  {
   "cell_type": "code",
   "execution_count": 23,
   "metadata": {},
   "outputs": [
    {
     "data": {
      "image/png": "[encoded data removed]",
      "text/plain": [
       "<matplotlib.figure.Figure at 0x7f31b0fafcc0>"
      ]
     },
     "metadata": {},
     "output_type": "display_data"
    }
   ],
   "source": [
    "small_df.columns = ['victim_sex','fips']\n",
    "\n",
    "axarr = small_df.hist(column='fips', by = 'victim_sex', sharex=True, sharey=True, layout = (1, 3), figsize=(15,5))\n",
    "\n",
    "for ax in axarr.flatten():\n",
    "    ax.set_xlabel(\"FIPS\")\n",
    "    ax.set_ylabel(\"Victim Count\")"
   ]
  },
  {
   "cell_type": "markdown",
   "metadata": {},
   "source": [
    "# Plot total number of victims by FIPS"
   ]
  },
  {
   "cell_type": "code",
   "execution_count": 29,
   "metadata": {},
   "outputs": [
    {
     "data": {
      "text/plain": [
       "48439    504045\n",
       "48085    167731\n",
       "48375    130819\n",
       "48121     84704\n",
       "48451     65809\n",
       "48423     57953\n",
       "48183     55419\n",
       "48113     44702\n",
       "48469     38709\n",
       "48039     26446\n",
       "48027     23271\n",
       "48257     22070\n",
       "48339     21886\n",
       "48251     16271\n",
       "48397     15082\n",
       "48401     14098\n",
       "48309     13438\n",
       "48303     12784\n",
       "48201     10160\n",
       "48491      9998\n",
       "48167      9514\n",
       "48373      9348\n",
       "48181      8213\n",
       "48347      6083\n",
       "48057      5530\n",
       "48367      5021\n",
       "48157      4800\n",
       "48053      4422\n",
       "48353      4250\n",
       "48481      3789\n",
       "          ...  \n",
       "48471      1194\n",
       "48175       935\n",
       "48285       916\n",
       "48231       821\n",
       "48457       619\n",
       "48029       573\n",
       "48411       557\n",
       "48299       552\n",
       "48233       435\n",
       "48215       365\n",
       "48507       364\n",
       "48259       324\n",
       "48497       232\n",
       "48245       226\n",
       "48489       204\n",
       "48099       176\n",
       "48281       164\n",
       "48043       157\n",
       "48381       117\n",
       "48197       106\n",
       "48277       105\n",
       "48331        60\n",
       "48289        58\n",
       "48357        56\n",
       "48419        42\n",
       "48313        35\n",
       "48503        35\n",
       "48427        33\n",
       "48061         7\n",
       "48081         2\n",
       "Length: 68, dtype: int64"
      ]
     },
     "execution_count": 29,
     "metadata": {},
     "output_type": "execute_result"
    }
   ],
   "source": [
    "FIPS_Vics = pd.value_counts(small_df['fips'].values, sort=True)\n",
    "FIPS_Vics"
   ]
  },
  {
   "cell_type": "code",
   "execution_count": 25,
   "metadata": {},
   "outputs": [
    {
     "data": {
      "image/png": "[encoded data removed]",
      "text/plain": [
       "<matplotlib.figure.Figure at 0x7f31a141a3c8>"
      ]
     },
     "metadata": {},
     "output_type": "display_data"
    }
   ],
   "source": [
    "FIPS_Vics.plot.barh(figsize = (20,30))\n",
    "plt.title('Number of Victims by FIPS')\n",
    "plt.xlabel('FIPS')\n",
    "plt.ylabel('Victim Count')\n",
    "plt.show()"
   ]
  }
 ],
 "metadata": {
  "kernelspec": {
   "display_name": "Python 3",
   "language": "python",
   "name": "python3"
  },
  "language_info": {
   "codemirror_mode": {
    "name": "ipython",
    "version": 3
   },
   "file_extension": ".py",
   "mimetype": "text/x-python",
   "name": "python",
   "nbconvert_exporter": "python",
   "pygments_lexer": "ipython3",
   "version": "3.6.4"
  }
 },
 "nbformat": 4,
 "nbformat_minor": 2
}
