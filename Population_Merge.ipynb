{
 "cells": [
  {
   "cell_type": "code",
   "execution_count": 1,
   "metadata": {},
   "outputs": [],
   "source": [
    "import pandas as pd"
   ]
  },
  {
   "cell_type": "code",
   "execution_count": 2,
   "metadata": {},
   "outputs": [],
   "source": [
    "A = pd.DataFrame({'county': ['Brewster', 'Kendall', 'Burnet', 'Williamson'],'year': [2016, 2013, 2012, 2014]})"
   ]
  },
  {
   "cell_type": "code",
   "execution_count": 3,
   "metadata": {},
   "outputs": [],
   "source": [
    "B = pd.DataFrame({'county': ['Brewster', 'Kendall', 'Burnet', 'Travis'],'year': [2016, 2013, 2014, 2014],'population': [1, 1, 2, 3]})"
   ]
  },
  {
   "cell_type": "code",
   "execution_count": 4,
   "metadata": {},
   "outputs": [
    {
     "name": "stdout",
     "output_type": "stream",
     "text": [
      "       county  year  population\n",
      "0    Brewster  2016         1.0\n",
      "1     Kendall  2013         1.0\n",
      "2      Burnet  2012         NaN\n",
      "3  Williamson  2014         NaN\n",
      "4      Burnet  2014         2.0\n",
      "5      Travis  2014         3.0\n"
     ]
    }
   ],
   "source": [
    "print(pd.merge(A, B, how = 'outer', on=['county','year']))"
   ]
  },
  {
   "cell_type": "code",
   "execution_count": null,
   "metadata": {},
   "outputs": [],
   "source": []
  }
 ],
 "metadata": {
  "kernelspec": {
   "display_name": "Python 3",
   "language": "python",
   "name": "python3"
  },
  "language_info": {
   "codemirror_mode": {
    "name": "ipython",
    "version": 3
   },
   "file_extension": ".py",
   "mimetype": "text/x-python",
   "name": "python",
   "nbconvert_exporter": "python",
   "pygments_lexer": "ipython3",
   "version": "3.6.4"
  }
 },
 "nbformat": 4,
 "nbformat_minor": 2
}
