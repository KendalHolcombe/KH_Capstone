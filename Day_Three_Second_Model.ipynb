{
 "cells": [
  {
   "cell_type": "code",
   "execution_count": null,
   "metadata": {},
   "outputs": [],
   "source": [
    "import numpy as np\n",
    "import pandas as pd\n",
    "import psycopg2"
   ]
  },
  {
   "cell_type": "code",
   "execution_count": null,
   "metadata": {},
   "outputs": [],
   "source": [
    "import json\n",
    "\n",
    "with open('config.json') as f:\n",
    "    conf = json.load(f)\n",
    "    host = conf['host']\n",
    "    database = conf['database']\n",
    "    user = conf['user']\n",
    "    passw = conf['passw']"
   ]
  },
  {
   "cell_type": "code",
   "execution_count": null,
   "metadata": {},
   "outputs": [],
   "source": [
    "conn_str = \"host={} dbname={} user={} password={}\".format(host, database, user, passw)\n",
    "conn = psycopg2.connect(conn_str)"
   ]
  },
  {
   "cell_type": "code",
   "execution_count": null,
   "metadata": {},
   "outputs": [],
   "source": [
    "train_query = '''\n",
    "SELECT      DISTINCT inc.incident_id AS INCIDENT_ID,\n",
    "            vic.victim_id AS VICTIM_ID,\n",
    "            date_part('year',inc.incident_date),\n",
    "            vic.victim_type_id AS VICTIM_TYPE_ID,\n",
    "            ty.victim_type_name AS VICTIM_TYPE,\n",
    "            vic.age_num,\n",
    "            vic.age_range_low_num AS AGE_RANGE_LOW,\n",
    "            vic.age_range_high_num AS AGE_RANGE_HIGH,\n",
    "            vic.age_id,\n",
    "            age.age_code,\n",
    "            age.age_name,\n",
    "            vic.sex_code AS VICTIM_SEX,\n",
    "            oft.crime_against AS CRIME_AGAINST,\n",
    "            oft.offense_name AS OFFENSE,\n",
    "            oft.offense_category_name AS OFFENSE_CATEGORY,\n",
    "            oft.offense_group AS OFFENSE_GROUP,\n",
    "            off.location_id AS LOCATION_ID,\n",
    "            loc.location_name AS LOCATION_NAME,\n",
    "            ori.fips AS FIPS,\n",
    "            ori.countyname AS COUNTY,\n",
    "            ori.name AS ORI_NAME,\n",
    "            ags.population AS POPULATION,\n",
    "            ags.population_group_desc AS POPULATION_DESCRIPTION,\n",
    "            ags.total_officers AS OFFICERS,\n",
    "            ags.total_civilians AS CIVILIANS\n",
    "            \n",
    "FROM        nibrs_victim as vic\n",
    "JOIN        nibrs_victim_type as ty\n",
    "ON          vic.victim_type_id = ty.victim_type_id\n",
    "JOIN        nibrs_age as age\n",
    "ON          age.age_id = vic.age_id\n",
    "JOIN        nibrs_offense as off\n",
    "ON          off.incident_id = vic.incident_id\n",
    "JOIN        nibrs_offense_type as oft\n",
    "ON          oft.offense_type_id = off.offense_type_id\n",
    "JOIN        nibrs_location_type as loc\n",
    "ON          off.location_id = loc.location_id\n",
    "JOIN        nibrs_incident as inc\n",
    "ON          inc.incident_id = vic.incident_id\n",
    "JOIN        cde_agencies as ags\n",
    "ON          ags.agency_id = inc.agency_id\n",
    "JOIN        ori_to_fips as ori\n",
    "ON          ori.ori9 = ags.ori\n",
    "\n",
    "WHERE       vic.victim_type_id = 4\n",
    "AND         inc.incident_date BETWEEN '2013-01-01' AND '2015-12-31';\n",
    "'''"
   ]
  },
  {
   "cell_type": "code",
   "execution_count": null,
   "metadata": {},
   "outputs": [],
   "source": [
    "train_df = pd.read_sql(train_query, con=conn)\n",
    "train_df.head(3).T"
   ]
  },
  {
   "cell_type": "code",
   "execution_count": null,
   "metadata": {},
   "outputs": [],
   "source": [
    "train_df.info()"
   ]
  },
  {
   "cell_type": "code",
   "execution_count": null,
   "metadata": {},
   "outputs": [],
   "source": [
    "test_query = '''\n",
    "SELECT      DISTINCT inc.incident_id AS INCIDENT_ID,\n",
    "            vic.victim_id AS VICTIM_ID,\n",
    "            date_part('year',inc.incident_date),\n",
    "            vic.victim_type_id AS VICTIM_TYPE_ID,\n",
    "            ty.victim_type_name AS VICTIM_TYPE,\n",
    "            vic.age_num,\n",
    "            vic.age_range_low_num AS AGE_RANGE_LOW,\n",
    "            vic.age_range_high_num AS AGE_RANGE_HIGH,\n",
    "            vic.age_id,\n",
    "            age.age_code,\n",
    "            age.age_name,\n",
    "            vic.sex_code AS VICTIM_SEX,\n",
    "            oft.crime_against AS CRIME_AGAINST,\n",
    "            oft.offense_name AS OFFENSE,\n",
    "            oft.offense_category_name AS OFFENSE_CATEGORY,\n",
    "            oft.offense_group AS OFFENSE_GROUP,\n",
    "            off.location_id AS LOCATION_ID,\n",
    "            loc.location_name AS LOCATION_NAME,\n",
    "            ori.fips AS FIPS,\n",
    "            ori.countyname AS COUNTY,\n",
    "            ori.name AS ORI_NAME,\n",
    "            ags.population AS POPULATION,\n",
    "            ags.population_group_desc AS POPULATION_DESCRIPTION,\n",
    "            ags.total_officers AS OFFICERS,\n",
    "            ags.total_civilians AS CIVILIANS\n",
    "            \n",
    "FROM        nibrs_victim as vic\n",
    "JOIN        nibrs_victim_type as ty\n",
    "ON          vic.victim_type_id = ty.victim_type_id\n",
    "JOIN        nibrs_age as age\n",
    "ON          age.age_id = vic.age_id\n",
    "JOIN        nibrs_offense as off\n",
    "ON          off.incident_id = vic.incident_id\n",
    "JOIN        nibrs_offense_type as oft\n",
    "ON          oft.offense_type_id = off.offense_type_id\n",
    "JOIN        nibrs_location_type as loc\n",
    "ON          off.location_id = loc.location_id\n",
    "JOIN        nibrs_incident as inc\n",
    "ON          inc.incident_id = vic.incident_id\n",
    "JOIN        cde_agencies as ags\n",
    "ON          ags.agency_id = inc.agency_id\n",
    "JOIN        ori_to_fips as ori\n",
    "ON          ori.ori9 = ags.ori\n",
    "\n",
    "WHERE       vic.victim_type_id = 4\n",
    "AND         inc.incident_date BETWEEN '2016-01-01' AND '2016-12-31';\n",
    "'''"
   ]
  },
  {
   "cell_type": "code",
   "execution_count": null,
   "metadata": {},
   "outputs": [],
   "source": [
    "test_df = pd.read_sql(test_query, con=conn)\n",
    "test_df.head(3).T"
   ]
  },
  {
   "cell_type": "code",
   "execution_count": null,
   "metadata": {},
   "outputs": [],
   "source": [
    "test_df.info()"
   ]
  },
  {
   "cell_type": "markdown",
   "metadata": {},
   "source": [
    "### Random Forest Regressor"
   ]
  },
  {
   "cell_type": "code",
   "execution_count": null,
   "metadata": {},
   "outputs": [],
   "source": [
    "train_model_df = train_df[['age_num','victim_sex','crime_against','offense_category','location_id','population','officers','civilians','county']]\n",
    "\n",
    "train_model_df = pd.get_dummies(train_model_df, columns = ['victim_sex','crime_against','offense_category','location_id'])\n",
    "train_model_df.head()"
   ]
  },
  {
   "cell_type": "code",
   "execution_count": null,
   "metadata": {},
   "outputs": [],
   "source": [
    "test_model_df = test_df[['age_num','victim_sex','crime_against','offense_category','location_id','population','officers','civilians','county']]\n",
    "\n",
    "test_model_df = pd.get_dummies(test_model_df, columns = ['victim_sex','crime_against','offense_category','location_id'])\n",
    "test_model_df.head()"
   ]
  },
  {
   "cell_type": "markdown",
   "metadata": {},
   "source": [
    "### Clean Training and Test Data: Drop missing age rows (<1% of data)"
   ]
  },
  {
   "cell_type": "code",
   "execution_count": null,
   "metadata": {},
   "outputs": [],
   "source": [
    "train_model_df.dropna(axis=0, subset=['age_num'],inplace=True)\n",
    "test_model_df.dropna(axis=0, subset=['age_num'],inplace=True)"
   ]
  },
  {
   "cell_type": "code",
   "execution_count": null,
   "metadata": {},
   "outputs": [],
   "source": [
    "# Training and Testing Sets\n",
    "y_train = train_model_df.pop('county').values\n",
    "X_train = train_model_df.values\n",
    "y_test = test_model_df.pop('county').values\n",
    "X_test = test_model_df.values"
   ]
  },
  {
   "cell_type": "code",
   "execution_count": null,
   "metadata": {},
   "outputs": [],
   "source": [
    "print('Training Features Shape:', X_train.shape)\n",
    "print('Training Labels Shape:', y_train.shape)\n",
    "print('Testing Features Shape:', X_test.shape)\n",
    "print('Testing Labels Shape:', y_test.shape)"
   ]
  },
  {
   "cell_type": "code",
   "execution_count": null,
   "metadata": {},
   "outputs": [],
   "source": [
    "from sklearn.ensemble import RandomForestClassifier\n",
    "from sklearn.metrics import confusion_matrix, precision_score, accuracy_score, recall_score, auc, roc_curve, precision_recall_curve, precision_recall_fscore_support"
   ]
  },
  {
   "cell_type": "code",
   "execution_count": null,
   "metadata": {},
   "outputs": [],
   "source": [
    "clf = RandomForestClassifier(oob_score=True, n_estimators=500, max_depth=50, max_features='auto')\n",
    "clf.fit(X_train, y_train)\n",
    "preds = clf.predict(X_test)\n",
    "proba_preds = clf.predict_proba(X_test)"
   ]
  },
  {
   "cell_type": "code",
   "execution_count": null,
   "metadata": {},
   "outputs": [],
   "source": [
    "# calculate scores\n",
    "precision_micro = precision_score(y_test, preds, average = 'micro')\n",
    "precision_macro = precision_score(y_test, preds, average = 'macro')\n",
    "precision_weighted = precision_score(y_test, preds, average = 'weighted')\n",
    "\n",
    "recall_micro = recall_score(y_test, preds, average = 'micro')\n",
    "recall_macro = recall_score(y_test, preds, average = 'macro')\n",
    "recall_weighted = recall_score(y_test, preds, average = 'weighted')\n",
    "\n",
    "F_1_micro = 2 / ((1/precision_micro) + (1/recall_micro))\n",
    "F_1_macro = 2 / ((1/precision_macro) + (1/recall_macro))\n",
    "F_1_weighted = 2 / ((1/precision_weighted) + (1/recall_weighted))\n",
    "\n",
    "oob=clf.oob_score_\n",
    "acc = accuracy_score(y_test, preds)\n",
    "\n",
    "prfs_micro = precision_recall_fscore_support(y_test, preds, average='micro')\n",
    "prfs_macro = precision_recall_fscore_support(y_test, preds, average='macro')\n",
    "prfs_weighted = precision_recall_fscore_support(y_test, preds, average='weighted')\n",
    "\n",
    "#Prec, Rec, Thresh = precision_recall_curve(y_test, proba_preds)\n",
    "\n",
    "print('Precision Scores:', precision_micro, precision_macro, precision_weighted)\n",
    "print('Recall Scores:', recall_micro, recall_macro, recall_weighted)\n",
    "print('F 1 Scores:', F_1_micro, F_1_macro, F_1_weighted)\n",
    "print('oob Score:', oob)\n",
    "print('Accuracy Score:', acc)\n",
    "print('PRF_Support Scores:', prfs_micro, prfs_macro, prfs_weighted)\n",
    "#print(Prec, Rec, Thresh)"
   ]
  },
  {
   "cell_type": "code",
   "execution_count": null,
   "metadata": {},
   "outputs": [],
   "source": [
    "import operator\n",
    "feats = {} # a dict to hold feature_name: feature_importance\n",
    "for feature, importance in zip(model_df.columns, clf.feature_importances_):\n",
    "    feats[feature] = importance\n",
    "feats = sorted(feats.items(), key = operator.itemgetter(1), reverse=True)\n",
    "feats"
   ]
  },
  {
   "cell_type": "code",
   "execution_count": null,
   "metadata": {},
   "outputs": [],
   "source": []
  }
 ],
 "metadata": {
  "kernelspec": {
   "display_name": "Python 3",
   "language": "python",
   "name": "python3"
  },
  "language_info": {
   "codemirror_mode": {
    "name": "ipython",
    "version": 3
   },
   "file_extension": ".py",
   "mimetype": "text/x-python",
   "name": "python",
   "nbconvert_exporter": "python",
   "pygments_lexer": "ipython3",
   "version": "3.6.4"
  }
 },
 "nbformat": 4,
 "nbformat_minor": 2
}
