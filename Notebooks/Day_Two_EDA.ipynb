{
 "cells": [
  {
   "cell_type": "code",
   "execution_count": 1,
   "metadata": {},
   "outputs": [],
   "source": [
    "import numpy as np\n",
    "import pandas as pd\n",
    "import psycopg2"
   ]
  },
  {
   "cell_type": "markdown",
   "metadata": {},
   "source": [
    "### Connect to Postgres DB"
   ]
  },
  {
   "cell_type": "code",
   "execution_count": 2,
   "metadata": {},
   "outputs": [],
   "source": [
    "import json\n",
    "\n",
    "with open('config.json') as f:\n",
    "    conf = json.load(f)\n",
    "    host = conf['host']\n",
    "    database = conf['database']\n",
    "    user = conf['user']\n",
    "    passw = conf['passw']"
   ]
  },
  {
   "cell_type": "code",
   "execution_count": 3,
   "metadata": {},
   "outputs": [],
   "source": [
    "conn_str = \"host={} dbname={} user={} password={}\".format(host, database, user, passw)\n",
    "conn = psycopg2.connect(conn_str)"
   ]
  },
  {
   "cell_type": "markdown",
   "metadata": {},
   "source": [
    "### Initial Query"
   ]
  },
  {
   "cell_type": "code",
   "execution_count": 4,
   "metadata": {},
   "outputs": [],
   "source": [
    "Vic_Off_query = '''SELECT vic.victim_id AS VICTIM_ID,\n",
    "            vic.incident_id AS INCIDENT_ID,\n",
    "            date_part('year',inc.incident_date),\n",
    "            vic.victim_type_id AS VICTIM_TYPE_ID,\n",
    "            ty.victim_type_name AS VICTIM_TYPE,\n",
    "            vic.age_range_low_num AS AGE_RANGE_LOW,\n",
    "            vic.age_range_high_num AS AGE_RANGE_HIGH,\n",
    "            vic.sex_code AS VICTIM_SEX,\n",
    "            oft.crime_against AS CRIME_AGAINST,\n",
    "            oft.offense_name AS OFFENSE,\n",
    "            oft.offense_category_name AS OFFENSE_CATEGORY,\n",
    "            oft.offense_group AS OFFENSE_GROUP,\n",
    "            ofr.offender_id AS OFFENDER_ID,\n",
    "            ofr.age_num AS OFFENDER_AGE,\n",
    "            ofr.sex_code AS OFFENDER_SEX,\n",
    "            off.location_id AS LOCATION_ID,\n",
    "            loc.location_name AS LOCATION_NAME,\n",
    "            inc.ddocname AS DOC_NAME,\n",
    "            ori.fips AS FIPS,\n",
    "            ori.countyname AS COUNTY,\n",
    "            ori.name AS ORI_NAME,\n",
    "            ags.population AS POPULATION,\n",
    "            ags.population_group_desc AS POPULATION_DESCRIPTION,\n",
    "            ags.total_officers AS OFFICERS,\n",
    "            ags.total_civilians AS CIVILIANS\n",
    "            FROM nibrs_victim as vic\n",
    "            JOIN nibrs_victim_type as ty\n",
    "            ON vic.victim_type_id = ty.victim_type_id\n",
    "            JOIN nibrs_offender as ofr\n",
    "            ON ofr.incident_id = vic.incident_id\n",
    "            JOIN nibrs_offense as off\n",
    "            ON off.incident_id = vic.incident_id\n",
    "            JOIN nibrs_offense_type as oft\n",
    "            ON oft.offense_type_id = off.offense_type_id\n",
    "            JOIN nibrs_location_type as loc\n",
    "            ON off.location_id = loc.location_id\n",
    "            JOIN nibrs_incident as inc\n",
    "            ON inc.incident_id = vic.incident_id\n",
    "            JOIN cde_agencies as ags\n",
    "            ON ags.agency_id = inc.agency_id\n",
    "            JOIN ori_to_fips as ori\n",
    "            ON ori.ori9 = ags.ori\n",
    "            WHERE vic.victim_type_id = 4;'''"
   ]
  },
  {
   "cell_type": "markdown",
   "metadata": {},
   "source": [
    "### Load into Pandas DataFrame"
   ]
  },
  {
   "cell_type": "code",
   "execution_count": null,
   "metadata": {
    "scrolled": false
   },
   "outputs": [],
   "source": [
    "Vic_Off_df = pd.read_sql(Vic_Off_query, con=conn)\n",
    "Vic_Off_df.head(3).T"
   ]
  },
  {
   "cell_type": "code",
   "execution_count": 7,
   "metadata": {},
   "outputs": [
    {
     "name": "stdout",
     "output_type": "stream",
     "text": [
      "<class 'pandas.core.frame.DataFrame'>\n",
      "RangeIndex: 463095 entries, 0 to 463094\n",
      "Data columns (total 12 columns):\n",
      "incident_id         463095 non-null int64\n",
      "year                463095 non-null int64\n",
      "age_num             456081 non-null float64\n",
      "victim_sex          463095 non-null object\n",
      "crime_against       463095 non-null object\n",
      "offense             463095 non-null object\n",
      "offense_category    463095 non-null object\n",
      "location_id         463095 non-null int64\n",
      "location_name       463095 non-null object\n",
      "county              463095 non-null object\n",
      "officers            463095 non-null int64\n",
      "civilians           463095 non-null int64\n",
      "dtypes: float64(1), int64(5), object(6)\n",
      "memory usage: 42.4+ MB\n"
     ]
    }
   ],
   "source": [
    "Vic_Off_df.info()"
   ]
  },
  {
   "cell_type": "code",
   "execution_count": 8,
   "metadata": {
    "scrolled": false
   },
   "outputs": [],
   "source": [
    "Vic_Off_df = Vic_Off_df.drop_duplicates()"
   ]
  },
  {
   "cell_type": "code",
   "execution_count": 9,
   "metadata": {},
   "outputs": [
    {
     "name": "stdout",
     "output_type": "stream",
     "text": [
      "<class 'pandas.core.frame.DataFrame'>\n",
      "Int64Index: 463095 entries, 0 to 463094\n",
      "Data columns (total 12 columns):\n",
      "incident_id         463095 non-null int64\n",
      "year                463095 non-null int64\n",
      "age_num             456081 non-null float64\n",
      "victim_sex          463095 non-null object\n",
      "crime_against       463095 non-null object\n",
      "offense             463095 non-null object\n",
      "offense_category    463095 non-null object\n",
      "location_id         463095 non-null int64\n",
      "location_name       463095 non-null object\n",
      "county              463095 non-null object\n",
      "officers            463095 non-null int64\n",
      "civilians           463095 non-null int64\n",
      "dtypes: float64(1), int64(5), object(6)\n",
      "memory usage: 45.9+ MB\n"
     ]
    }
   ],
   "source": [
    "Vic_Off_df.info()"
   ]
  },
  {
   "cell_type": "code",
   "execution_count": 10,
   "metadata": {},
   "outputs": [
    {
     "data": {
      "text/html": [
       "<div>\n",
       "<style scoped>\n",
       "    .dataframe tbody tr th:only-of-type {\n",
       "        vertical-align: middle;\n",
       "    }\n",
       "\n",
       "    .dataframe tbody tr th {\n",
       "        vertical-align: top;\n",
       "    }\n",
       "\n",
       "    .dataframe thead th {\n",
       "        text-align: right;\n",
       "    }\n",
       "</style>\n",
       "<table border=\"1\" class=\"dataframe\">\n",
       "  <thead>\n",
       "    <tr style=\"text-align: right;\">\n",
       "      <th></th>\n",
       "      <th>0</th>\n",
       "      <th>1</th>\n",
       "      <th>2</th>\n",
       "    </tr>\n",
       "  </thead>\n",
       "  <tbody>\n",
       "    <tr>\n",
       "      <th>incident_id</th>\n",
       "      <td>67693343</td>\n",
       "      <td>67693344</td>\n",
       "      <td>67693345</td>\n",
       "    </tr>\n",
       "    <tr>\n",
       "      <th>year</th>\n",
       "      <td>2013</td>\n",
       "      <td>2013</td>\n",
       "      <td>2013</td>\n",
       "    </tr>\n",
       "    <tr>\n",
       "      <th>age_num</th>\n",
       "      <td>46</td>\n",
       "      <td>57</td>\n",
       "      <td>51</td>\n",
       "    </tr>\n",
       "    <tr>\n",
       "      <th>victim_sex</th>\n",
       "      <td>F</td>\n",
       "      <td>M</td>\n",
       "      <td>F</td>\n",
       "    </tr>\n",
       "    <tr>\n",
       "      <th>crime_against</th>\n",
       "      <td>Property</td>\n",
       "      <td>Property</td>\n",
       "      <td>Property</td>\n",
       "    </tr>\n",
       "    <tr>\n",
       "      <th>offense</th>\n",
       "      <td>All Other Larceny</td>\n",
       "      <td>Theft From Motor Vehicle</td>\n",
       "      <td>Theft From Motor Vehicle</td>\n",
       "    </tr>\n",
       "    <tr>\n",
       "      <th>offense_category</th>\n",
       "      <td>Larceny/Theft Offenses</td>\n",
       "      <td>Larceny/Theft Offenses</td>\n",
       "      <td>Larceny/Theft Offenses</td>\n",
       "    </tr>\n",
       "    <tr>\n",
       "      <th>location_id</th>\n",
       "      <td>20</td>\n",
       "      <td>18</td>\n",
       "      <td>18</td>\n",
       "    </tr>\n",
       "    <tr>\n",
       "      <th>location_name</th>\n",
       "      <td>Residence/Home</td>\n",
       "      <td>Parking/Drop Lot/Garage</td>\n",
       "      <td>Parking/Drop Lot/Garage</td>\n",
       "    </tr>\n",
       "    <tr>\n",
       "      <th>county</th>\n",
       "      <td>POTTER</td>\n",
       "      <td>POTTER</td>\n",
       "      <td>POTTER</td>\n",
       "    </tr>\n",
       "    <tr>\n",
       "      <th>officers</th>\n",
       "      <td>343</td>\n",
       "      <td>343</td>\n",
       "      <td>343</td>\n",
       "    </tr>\n",
       "    <tr>\n",
       "      <th>civilians</th>\n",
       "      <td>68</td>\n",
       "      <td>68</td>\n",
       "      <td>68</td>\n",
       "    </tr>\n",
       "  </tbody>\n",
       "</table>\n",
       "</div>"
      ],
      "text/plain": [
       "                                       0                         1  \\\n",
       "incident_id                     67693343                  67693344   \n",
       "year                                2013                      2013   \n",
       "age_num                               46                        57   \n",
       "victim_sex                             F                         M   \n",
       "crime_against                   Property                  Property   \n",
       "offense                All Other Larceny  Theft From Motor Vehicle   \n",
       "offense_category  Larceny/Theft Offenses    Larceny/Theft Offenses   \n",
       "location_id                           20                        18   \n",
       "location_name             Residence/Home   Parking/Drop Lot/Garage   \n",
       "county                            POTTER                    POTTER   \n",
       "officers                             343                       343   \n",
       "civilians                             68                        68   \n",
       "\n",
       "                                         2  \n",
       "incident_id                       67693345  \n",
       "year                                  2013  \n",
       "age_num                                 51  \n",
       "victim_sex                               F  \n",
       "crime_against                     Property  \n",
       "offense           Theft From Motor Vehicle  \n",
       "offense_category    Larceny/Theft Offenses  \n",
       "location_id                             18  \n",
       "location_name      Parking/Drop Lot/Garage  \n",
       "county                              POTTER  \n",
       "officers                               343  \n",
       "civilians                               68  "
      ]
     },
     "execution_count": 10,
     "metadata": {},
     "output_type": "execute_result"
    }
   ],
   "source": [
    "Vic_Off_df.head(3).T"
   ]
  },
  {
   "cell_type": "markdown",
   "metadata": {},
   "source": [
    "### Count of NaN's by column"
   ]
  },
  {
   "cell_type": "code",
   "execution_count": 11,
   "metadata": {},
   "outputs": [
    {
     "data": {
      "text/plain": [
       "incident_id            0\n",
       "year                   0\n",
       "age_num             7014\n",
       "victim_sex             0\n",
       "crime_against          0\n",
       "offense                0\n",
       "offense_category       0\n",
       "location_id            0\n",
       "location_name          0\n",
       "county                 0\n",
       "officers               0\n",
       "civilians              0\n",
       "dtype: int64"
      ]
     },
     "execution_count": 11,
     "metadata": {},
     "output_type": "execute_result"
    }
   ],
   "source": [
    "Vic_Off_df.isna().sum()"
   ]
  },
  {
   "cell_type": "markdown",
   "metadata": {},
   "source": [
    "### Impute missing offender_sex as \"U\" (unknown)"
   ]
  },
  {
   "cell_type": "code",
   "execution_count": null,
   "metadata": {},
   "outputs": [],
   "source": [
    "Vic_Off_df.offender_sex.value_counts()"
   ]
  },
  {
   "cell_type": "code",
   "execution_count": null,
   "metadata": {},
   "outputs": [],
   "source": [
    "Vic_Off_df['offender_sex'].fillna('U', inplace=True)"
   ]
  },
  {
   "cell_type": "code",
   "execution_count": null,
   "metadata": {},
   "outputs": [],
   "source": [
    "Vic_Off_df.offender_sex.value_counts()"
   ]
  },
  {
   "cell_type": "markdown",
   "metadata": {},
   "source": [
    "# Plot number of offenses by offender age"
   ]
  },
  {
   "cell_type": "code",
   "execution_count": null,
   "metadata": {},
   "outputs": [],
   "source": [
    "OffAges = Vic_Off_df['offender_age'].value_counts().sort_index()\n",
    "OffAges"
   ]
  },
  {
   "cell_type": "code",
   "execution_count": null,
   "metadata": {},
   "outputs": [],
   "source": [
    "import matplotlib.pyplot as plt\n",
    "%matplotlib inline\n",
    "\n",
    "OffAges.plot.bar(figsize = (20,20))\n",
    "plt.title('Number of Offenses by Offender Age')\n",
    "plt.xlabel('Age')\n",
    "plt.ylabel('Offense Count')\n",
    "#plt.rcParams.update({'font.size': 40})\n",
    "plt.show()"
   ]
  },
  {
   "cell_type": "code",
   "execution_count": null,
   "metadata": {},
   "outputs": [],
   "source": [
    "import seaborn as sb"
   ]
  },
  {
   "cell_type": "code",
   "execution_count": null,
   "metadata": {},
   "outputs": [],
   "source": [
    "sb.distplot(OffAges)\n",
    "plt.title('Number of Offenses by Offender Age')\n",
    "plt.xlabel('Age')\n",
    "plt.ylabel('Offense Count')\n",
    "#plt.rcParams.update({'font.size': 40})\n",
    "plt.show()"
   ]
  },
  {
   "cell_type": "code",
   "execution_count": null,
   "metadata": {},
   "outputs": [],
   "source": []
  },
  {
   "cell_type": "code",
   "execution_count": null,
   "metadata": {},
   "outputs": [],
   "source": []
  },
  {
   "cell_type": "markdown",
   "metadata": {},
   "source": [
    "# Plot Victim Count by Gender and County"
   ]
  },
  {
   "cell_type": "code",
   "execution_count": null,
   "metadata": {},
   "outputs": [],
   "source": [
    "small_df = Vic_Off_df[['victim_sex','fips']]"
   ]
  },
  {
   "cell_type": "code",
   "execution_count": null,
   "metadata": {},
   "outputs": [],
   "source": [
    "small_df['fips'].unique()"
   ]
  },
  {
   "cell_type": "code",
   "execution_count": null,
   "metadata": {},
   "outputs": [],
   "source": [
    "small_df.columns = ['victim_sex','fips']\n",
    "\n",
    "axarr = small_df.hist(column='fips', by = 'victim_sex', sharex=True, sharey=True, layout = (1, 3), figsize=(15,5))\n",
    "\n",
    "for ax in axarr.flatten():\n",
    "    ax.set_xlabel(\"FIPS\")\n",
    "    ax.set_ylabel(\"Victim Count\")"
   ]
  },
  {
   "cell_type": "markdown",
   "metadata": {},
   "source": [
    "# Plot total number of victims by FIPS"
   ]
  },
  {
   "cell_type": "code",
   "execution_count": null,
   "metadata": {},
   "outputs": [],
   "source": [
    "FIPS_Vics = pd.value_counts(small_df['fips'].values, sort=True)\n",
    "FIPS_Vics"
   ]
  },
  {
   "cell_type": "code",
   "execution_count": null,
   "metadata": {
    "scrolled": false
   },
   "outputs": [],
   "source": [
    "FIPS_Vics.plot.barh(figsize = (20,30))\n",
    "plt.title('Number of Victims by FIPS')\n",
    "plt.xlabel('FIPS')\n",
    "plt.ylabel('Victim Count')\n",
    "plt.rcParams.update({'font.size': 16})\n",
    "plt.show()"
   ]
  },
  {
   "cell_type": "markdown",
   "metadata": {},
   "source": [
    "### Plot Number of Offenses by Category"
   ]
  },
  {
   "cell_type": "code",
   "execution_count": null,
   "metadata": {},
   "outputs": [],
   "source": [
    "OffCats = Vic_Off_df['offense_category'].value_counts().sort_index()\n",
    "OffCats"
   ]
  },
  {
   "cell_type": "code",
   "execution_count": null,
   "metadata": {},
   "outputs": [],
   "source": [
    "OffCats.plot.barh(figsize = (20,20))\n",
    "plt.title('Number of Incidents by Offense Category')\n",
    "plt.xlabel('Offense Category')\n",
    "plt.ylabel('Incident Count')\n",
    "plt.rcParams.update({'font.size': 26})\n",
    "plt.show()"
   ]
  },
  {
   "cell_type": "code",
   "execution_count": null,
   "metadata": {},
   "outputs": [],
   "source": []
  }
 ],
 "metadata": {
  "kernelspec": {
   "display_name": "Python 3",
   "language": "python",
   "name": "python3"
  },
  "language_info": {
   "codemirror_mode": {
    "name": "ipython",
    "version": 3
   },
   "file_extension": ".py",
   "mimetype": "text/x-python",
   "name": "python",
   "nbconvert_exporter": "python",
   "pygments_lexer": "ipython3",
   "version": "3.6.4"
  }
 },
 "nbformat": 4,
 "nbformat_minor": 2
}
