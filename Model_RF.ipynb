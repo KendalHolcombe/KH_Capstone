{
 "cells": [
  {
   "cell_type": "code",
   "execution_count": 60,
   "metadata": {},
   "outputs": [],
   "source": [
    "from create_features_DF import create_df, clean_data, create_features_df\n",
    "from sklearn.cross_validation import train_test_split\n",
    "from sklearn.ensemble import GradientBoostingClassifier, RandomForestClassifier\n",
    "import sklearn.metrics as skm\n",
    "import numpy as np\n",
    "import matplotlib.pyplot as plt\n",
    "%matplotlib inline\n",
    "import warnings\n",
    "warnings.filterwarnings('ignore')"
   ]
  },
  {
   "cell_type": "code",
   "execution_count": 3,
   "metadata": {},
   "outputs": [],
   "source": [
    "from sklearn.metrics import confusion_matrix\n",
    "\n",
    "def plot_confusion_matrix(model, X_test, y_true):\n",
    "    '''Code stolen brazenly from sklearn example.'''\n",
    "    cm = confusion_matrix(y_true, model.predict(X_test))\n",
    "\n",
    "    print(cm)\n",
    "\n",
    "    # Show confusion matrix in a separate window\n",
    "    plt.matshow(cm)\n",
    "    plt.title('Confusion matrix')\n",
    "    plt.colorbar()\n",
    "    plt.ylabel('True label')\n",
    "    plt.xlabel('Predicted label')\n",
    "    plt.show()"
   ]
  },
  {
   "cell_type": "code",
   "execution_count": 4,
   "metadata": {},
   "outputs": [],
   "source": [
    "def roc_curve(probabilities, labels):\n",
    "    '''\n",
    "    INPUT: numpy array, numpy array\n",
    "    OUTPUT: list, list, list\n",
    "\n",
    "    Take a numpy array of the predicted probabilities and a numpy array of the\n",
    "    true labels.\n",
    "    Return the True Positive Rates, False Positive Rates and Thresholds for the\n",
    "    ROC curve.\n",
    "    '''\n",
    "\n",
    "    thresholds = np.sort(probabilities)\n",
    "\n",
    "    tprs = []\n",
    "    fprs = []\n",
    "\n",
    "    num_positive_cases = sum(labels)\n",
    "    num_negative_cases = len(labels) - num_positive_cases\n",
    "\n",
    "    for threshold in thresholds:\n",
    "        # With this threshold, give the prediction of each instance\n",
    "        predicted_positive = probabilities >= threshold\n",
    "        # Calculate the number of correctly predicted positive cases\n",
    "        true_positives = np.sum(predicted_positive * labels)\n",
    "        # Calculate the number of incorrectly predicted positive cases\n",
    "        false_positives = np.sum(predicted_positive) - true_positives\n",
    "        # Calculate the True Positive Rate\n",
    "        tpr = true_positives / float(num_positive_cases)\n",
    "        # Calculate the False Positive Rate\n",
    "        fpr = false_positives / float(num_negative_cases)\n",
    "\n",
    "        fprs.append(fpr)\n",
    "        tprs.append(tpr)\n",
    "    \n",
    "    return tprs, fprs, thresholds.tolist()\n",
    "\n",
    "def plot_roc(probs, y_true, title, xlabel, ylabel):\n",
    "    # ROC\n",
    "    tpr, fpr, thresholds = roc_curve(probs, y_test)\n",
    "\n",
    "    plt.hold(True)\n",
    "    plt.plot(fpr, tpr)\n",
    "\n",
    "    # 45 degree line\n",
    "    xx = np.linspace(0, 1.0, 20)\n",
    "    plt.plot(xx, xx, color='red')\n",
    "\n",
    "    plt.xlabel(xlabel)\n",
    "    plt.ylabel(ylabel)\n",
    "    plt.title(title)\n",
    "\n",
    "    plt.show()"
   ]
  },
  {
   "cell_type": "code",
   "execution_count": 5,
   "metadata": {},
   "outputs": [],
   "source": [
    "df = create_df('data/data.json')"
   ]
  },
  {
   "cell_type": "code",
   "execution_count": 6,
   "metadata": {},
   "outputs": [],
   "source": [
    "df = clean_data(df)"
   ]
  },
  {
   "cell_type": "code",
   "execution_count": 7,
   "metadata": {},
   "outputs": [],
   "source": [
    "X = create_features_df(df)"
   ]
  },
  {
   "cell_type": "code",
   "execution_count": 8,
   "metadata": {},
   "outputs": [],
   "source": [
    "y = df['fraud'].values"
   ]
  },
  {
   "cell_type": "code",
   "execution_count": 9,
   "metadata": {},
   "outputs": [
    {
     "data": {
      "text/html": [
       "<div>\n",
       "<style scoped>\n",
       "    .dataframe tbody tr th:only-of-type {\n",
       "        vertical-align: middle;\n",
       "    }\n",
       "\n",
       "    .dataframe tbody tr th {\n",
       "        vertical-align: top;\n",
       "    }\n",
       "\n",
       "    .dataframe thead th {\n",
       "        text-align: right;\n",
       "    }\n",
       "</style>\n",
       "<table border=\"1\" class=\"dataframe\">\n",
       "  <thead>\n",
       "    <tr style=\"text-align: right;\">\n",
       "      <th></th>\n",
       "      <th>user_type_1</th>\n",
       "      <th>user_type_2</th>\n",
       "      <th>user_type_3</th>\n",
       "      <th>user_type_4</th>\n",
       "      <th>user_type_5</th>\n",
       "      <th>channels_0</th>\n",
       "      <th>channels_4</th>\n",
       "      <th>channels_5</th>\n",
       "      <th>channels_6</th>\n",
       "      <th>channels_7</th>\n",
       "      <th>channels_8</th>\n",
       "      <th>channels_9</th>\n",
       "      <th>channels_10</th>\n",
       "      <th>channels_11</th>\n",
       "      <th>channels_12</th>\n",
       "      <th>delivery_0.0</th>\n",
       "      <th>delivery_1.0</th>\n",
       "      <th>num_prev_payouts</th>\n",
       "    </tr>\n",
       "  </thead>\n",
       "  <tbody>\n",
       "    <tr>\n",
       "      <th>0</th>\n",
       "      <td>1</td>\n",
       "      <td>0</td>\n",
       "      <td>0</td>\n",
       "      <td>0</td>\n",
       "      <td>0</td>\n",
       "      <td>0</td>\n",
       "      <td>0</td>\n",
       "      <td>1</td>\n",
       "      <td>0</td>\n",
       "      <td>0</td>\n",
       "      <td>0</td>\n",
       "      <td>0</td>\n",
       "      <td>0</td>\n",
       "      <td>0</td>\n",
       "      <td>0</td>\n",
       "      <td>1</td>\n",
       "      <td>0</td>\n",
       "      <td>0</td>\n",
       "    </tr>\n",
       "    <tr>\n",
       "      <th>1</th>\n",
       "      <td>0</td>\n",
       "      <td>0</td>\n",
       "      <td>1</td>\n",
       "      <td>0</td>\n",
       "      <td>0</td>\n",
       "      <td>1</td>\n",
       "      <td>0</td>\n",
       "      <td>0</td>\n",
       "      <td>0</td>\n",
       "      <td>0</td>\n",
       "      <td>0</td>\n",
       "      <td>0</td>\n",
       "      <td>0</td>\n",
       "      <td>0</td>\n",
       "      <td>0</td>\n",
       "      <td>0</td>\n",
       "      <td>1</td>\n",
       "      <td>49</td>\n",
       "    </tr>\n",
       "    <tr>\n",
       "      <th>2</th>\n",
       "      <td>0</td>\n",
       "      <td>0</td>\n",
       "      <td>1</td>\n",
       "      <td>0</td>\n",
       "      <td>0</td>\n",
       "      <td>0</td>\n",
       "      <td>0</td>\n",
       "      <td>0</td>\n",
       "      <td>0</td>\n",
       "      <td>0</td>\n",
       "      <td>1</td>\n",
       "      <td>0</td>\n",
       "      <td>0</td>\n",
       "      <td>0</td>\n",
       "      <td>0</td>\n",
       "      <td>0</td>\n",
       "      <td>1</td>\n",
       "      <td>36</td>\n",
       "    </tr>\n",
       "    <tr>\n",
       "      <th>3</th>\n",
       "      <td>0</td>\n",
       "      <td>0</td>\n",
       "      <td>1</td>\n",
       "      <td>0</td>\n",
       "      <td>0</td>\n",
       "      <td>0</td>\n",
       "      <td>0</td>\n",
       "      <td>0</td>\n",
       "      <td>1</td>\n",
       "      <td>0</td>\n",
       "      <td>0</td>\n",
       "      <td>0</td>\n",
       "      <td>0</td>\n",
       "      <td>0</td>\n",
       "      <td>0</td>\n",
       "      <td>0</td>\n",
       "      <td>1</td>\n",
       "      <td>21</td>\n",
       "    </tr>\n",
       "    <tr>\n",
       "      <th>4</th>\n",
       "      <td>0</td>\n",
       "      <td>0</td>\n",
       "      <td>1</td>\n",
       "      <td>0</td>\n",
       "      <td>0</td>\n",
       "      <td>0</td>\n",
       "      <td>0</td>\n",
       "      <td>0</td>\n",
       "      <td>0</td>\n",
       "      <td>0</td>\n",
       "      <td>0</td>\n",
       "      <td>0</td>\n",
       "      <td>0</td>\n",
       "      <td>1</td>\n",
       "      <td>0</td>\n",
       "      <td>1</td>\n",
       "      <td>0</td>\n",
       "      <td>49</td>\n",
       "    </tr>\n",
       "  </tbody>\n",
       "</table>\n",
       "</div>"
      ],
      "text/plain": [
       "   user_type_1  user_type_2  user_type_3  user_type_4  user_type_5  \\\n",
       "0            1            0            0            0            0   \n",
       "1            0            0            1            0            0   \n",
       "2            0            0            1            0            0   \n",
       "3            0            0            1            0            0   \n",
       "4            0            0            1            0            0   \n",
       "\n",
       "   channels_0  channels_4  channels_5  channels_6  channels_7  channels_8  \\\n",
       "0           0           0           1           0           0           0   \n",
       "1           1           0           0           0           0           0   \n",
       "2           0           0           0           0           0           1   \n",
       "3           0           0           0           1           0           0   \n",
       "4           0           0           0           0           0           0   \n",
       "\n",
       "   channels_9  channels_10  channels_11  channels_12  delivery_0.0  \\\n",
       "0           0            0            0            0             1   \n",
       "1           0            0            0            0             0   \n",
       "2           0            0            0            0             0   \n",
       "3           0            0            0            0             0   \n",
       "4           0            0            1            0             1   \n",
       "\n",
       "   delivery_1.0  num_prev_payouts  \n",
       "0             0                 0  \n",
       "1             1                49  \n",
       "2             1                36  \n",
       "3             1                21  \n",
       "4             0                49  "
      ]
     },
     "execution_count": 9,
     "metadata": {},
     "output_type": "execute_result"
    }
   ],
   "source": [
    "X.head()"
   ]
  },
  {
   "cell_type": "code",
   "execution_count": null,
   "metadata": {},
   "outputs": [],
   "source": [
    "X.describe().T"
   ]
  },
  {
   "cell_type": "code",
   "execution_count": 12,
   "metadata": {},
   "outputs": [],
   "source": [
    "X_train, X_test, y_train, y_test = train_test_split(X, y, test_size=0.20, random_state=67)"
   ]
  },
  {
   "cell_type": "code",
   "execution_count": 43,
   "metadata": {},
   "outputs": [
    {
     "name": "stderr",
     "output_type": "stream",
     "text": [
      "/anaconda3/lib/python3.6/site-packages/sklearn/ensemble/forest.py:453: UserWarning: Some inputs do not have OOB scores. This probably means too few trees were used to compute any reliable oob estimates.\n",
      "  warn(\"Some inputs do not have OOB scores. \"\n",
      "/anaconda3/lib/python3.6/site-packages/sklearn/ensemble/forest.py:458: RuntimeWarning: invalid value encountered in true_divide\n",
      "  predictions[k].sum(axis=1)[:, np.newaxis])\n"
     ]
    },
    {
     "data": {
      "text/plain": [
       "RandomForestClassifier(bootstrap=True, class_weight=None, criterion='gini',\n",
       "            max_depth=None, max_features='auto', max_leaf_nodes=None,\n",
       "            min_impurity_decrease=0.0, min_impurity_split=None,\n",
       "            min_samples_leaf=1, min_samples_split=2,\n",
       "            min_weight_fraction_leaf=0.0, n_estimators=20, n_jobs=1,\n",
       "            oob_score=True, random_state=None, verbose=0, warm_start=False)"
      ]
     },
     "execution_count": 43,
     "metadata": {},
     "output_type": "execute_result"
    }
   ],
   "source": [
    "rfc = RandomForestClassifier(n_estimators=20, oob_score=True)\n",
    "rfc.fit(X_train, y_train)"
   ]
  },
  {
   "cell_type": "code",
   "execution_count": 44,
   "metadata": {},
   "outputs": [
    {
     "data": {
      "text/plain": [
       "0.9766387726638772"
      ]
     },
     "execution_count": 44,
     "metadata": {},
     "output_type": "execute_result"
    }
   ],
   "source": [
    "rfc.score(X_test, y_test)"
   ]
  },
  {
   "cell_type": "code",
   "execution_count": 47,
   "metadata": {},
   "outputs": [
    {
     "data": {
      "text/plain": [
       "0.9762838957188944"
      ]
     },
     "execution_count": 47,
     "metadata": {},
     "output_type": "execute_result"
    }
   ],
   "source": [
    "rfc.oob_score_"
   ]
  },
  {
   "cell_type": "code",
   "execution_count": 48,
   "metadata": {},
   "outputs": [
    {
     "data": {
      "text/plain": [
       "0.9064808872653074"
      ]
     },
     "execution_count": 48,
     "metadata": {},
     "output_type": "execute_result"
    }
   ],
   "source": [
    "skm.roc_auc_score(y_test, rfc.predict(X_test))"
   ]
  },
  {
   "cell_type": "code",
   "execution_count": 49,
   "metadata": {},
   "outputs": [
    {
     "name": "stdout",
     "output_type": "stream",
     "text": [
      "[[2570   16]\n",
      " [  51  231]]\n"
     ]
    },
    {
     "data": {
      "image/png": "[encoded data removed]",
      "text/plain": [
       "<matplotlib.figure.Figure at 0x1a299ca748>"
      ]
     },
     "metadata": {},
     "output_type": "display_data"
    }
   ],
   "source": [
    "plot_confusion_matrix(rfc, X_test, y_test)"
   ]
  },
  {
   "cell_type": "code",
   "execution_count": 50,
   "metadata": {},
   "outputs": [
    {
     "data": {
      "text/plain": [
       "array([[0.90386104, 0.09613896],\n",
       "       [1.        , 0.        ],\n",
       "       [0.97012409, 0.02987591],\n",
       "       ...,\n",
       "       [1.        , 0.        ],\n",
       "       [1.        , 0.        ],\n",
       "       [1.        , 0.        ]])"
      ]
     },
     "execution_count": 50,
     "metadata": {},
     "output_type": "execute_result"
    }
   ],
   "source": [
    "rfc.predict_proba(X_test)"
   ]
  },
  {
   "cell_type": "code",
   "execution_count": 67,
   "metadata": {},
   "outputs": [
    {
     "data": {
      "text/plain": [
       "array([5.02741626e-02, 3.68973086e-05, 9.20233445e-03, 6.70444873e-03,\n",
       "       3.28762860e-04, 1.30090714e-02, 1.01291636e-03, 3.17260239e-03,\n",
       "       4.05255561e-03, 1.00426404e-04, 7.75992491e-03, 8.05780113e-05,\n",
       "       3.90825742e-04, 2.46356683e-03, 1.26395054e-03, 1.80551545e-02,\n",
       "       1.61322742e-02, 8.65959547e-01])"
      ]
     },
     "execution_count": 67,
     "metadata": {},
     "output_type": "execute_result"
    }
   ],
   "source": [
    "rfc.feature_importances_"
   ]
  },
  {
   "cell_type": "code",
   "execution_count": 61,
   "metadata": {},
   "outputs": [
    {
     "data": {
      "image/png": "[encoded data removed]",
      "text/plain": [
       "<matplotlib.figure.Figure at 0x1a29b072e8>"
      ]
     },
     "metadata": {},
     "output_type": "display_data"
    }
   ],
   "source": [
    "v_probs = rfc.predict_proba(X_test)[:,1]\n",
    "plot_roc(v_probs, y_test, \"Title\", \"x\", \"y\")\n",
    "plt.show()"
   ]
  },
  {
   "cell_type": "code",
   "execution_count": 26,
   "metadata": {},
   "outputs": [],
   "source": [
    "from sklearn.model_selection import GridSearchCV"
   ]
  },
  {
   "cell_type": "code",
   "execution_count": 28,
   "metadata": {},
   "outputs": [
    {
     "data": {
      "text/plain": [
       "{'bootstrap': True,\n",
       " 'class_weight': None,\n",
       " 'criterion': 'gini',\n",
       " 'max_depth': None,\n",
       " 'max_features': 'auto',\n",
       " 'max_leaf_nodes': None,\n",
       " 'min_impurity_decrease': 0.0,\n",
       " 'min_impurity_split': None,\n",
       " 'min_samples_leaf': 1,\n",
       " 'min_samples_split': 2,\n",
       " 'min_weight_fraction_leaf': 0.0,\n",
       " 'n_estimators': 20,\n",
       " 'n_jobs': 1,\n",
       " 'oob_score': False,\n",
       " 'random_state': None,\n",
       " 'verbose': 0,\n",
       " 'warm_start': False}"
      ]
     },
     "execution_count": 28,
     "metadata": {},
     "output_type": "execute_result"
    }
   ],
   "source": [
    "rfc.get_params()"
   ]
  },
  {
   "cell_type": "code",
   "execution_count": 55,
   "metadata": {},
   "outputs": [],
   "source": [
    "param_grid = [\n",
    "  {'n_estimators': [10, 20, 30, 50, 70, 100], 'max_depth': [7,9,11,13], \n",
    "   'min_samples_split': [2,4,8]}]"
   ]
  },
  {
   "cell_type": "code",
   "execution_count": 56,
   "metadata": {},
   "outputs": [],
   "source": [
    "clf = GridSearchCV(rfc, param_grid, cv=5,\n",
    "                       scoring='recall')"
   ]
  },
  {
   "cell_type": "code",
   "execution_count": 62,
   "metadata": {},
   "outputs": [
    {
     "data": {
      "text/plain": [
       "GridSearchCV(cv=5, error_score='raise',\n",
       "       estimator=RandomForestClassifier(bootstrap=True, class_weight=None, criterion='gini',\n",
       "            max_depth=None, max_features='auto', max_leaf_nodes=None,\n",
       "            min_impurity_decrease=0.0, min_impurity_split=None,\n",
       "            min_samples_leaf=1, min_samples_split=2,\n",
       "            min_weight_fraction_leaf=0.0, n_estimators=20, n_jobs=1,\n",
       "            oob_score=True, random_state=None, verbose=0, warm_start=False),\n",
       "       fit_params=None, iid=True, n_jobs=1,\n",
       "       param_grid=[{'n_estimators': [10, 20, 30, 50, 70, 100], 'max_depth': [7, 9, 11, 13], 'min_samples_split': [2, 4, 8]}],\n",
       "       pre_dispatch='2*n_jobs', refit=True, return_train_score='warn',\n",
       "       scoring='recall', verbose=0)"
      ]
     },
     "execution_count": 62,
     "metadata": {},
     "output_type": "execute_result"
    }
   ],
   "source": [
    "clf.fit(X_train, y_train)"
   ]
  },
  {
   "cell_type": "code",
   "execution_count": 58,
   "metadata": {},
   "outputs": [],
   "source": [
    "means = clf.cv_results_['mean_test_score']\n",
    "stds = clf.cv_results_['std_test_score']"
   ]
  },
  {
   "cell_type": "code",
   "execution_count": 59,
   "metadata": {},
   "outputs": [
    {
     "name": "stdout",
     "output_type": "stream",
     "text": [
      "0.751 (+/-0.053) for {'max_depth': 7, 'min_samples_split': 2, 'n_estimators': 10}\n",
      "0.752 (+/-0.047) for {'max_depth': 7, 'min_samples_split': 2, 'n_estimators': 20}\n",
      "0.754 (+/-0.048) for {'max_depth': 7, 'min_samples_split': 2, 'n_estimators': 30}\n",
      "0.753 (+/-0.047) for {'max_depth': 7, 'min_samples_split': 2, 'n_estimators': 50}\n",
      "0.753 (+/-0.047) for {'max_depth': 7, 'min_samples_split': 2, 'n_estimators': 70}\n",
      "0.753 (+/-0.047) for {'max_depth': 7, 'min_samples_split': 2, 'n_estimators': 100}\n",
      "0.754 (+/-0.051) for {'max_depth': 7, 'min_samples_split': 4, 'n_estimators': 10}\n",
      "0.755 (+/-0.044) for {'max_depth': 7, 'min_samples_split': 4, 'n_estimators': 20}\n",
      "0.753 (+/-0.046) for {'max_depth': 7, 'min_samples_split': 4, 'n_estimators': 30}\n",
      "0.756 (+/-0.045) for {'max_depth': 7, 'min_samples_split': 4, 'n_estimators': 50}\n",
      "0.755 (+/-0.047) for {'max_depth': 7, 'min_samples_split': 4, 'n_estimators': 70}\n",
      "0.754 (+/-0.046) for {'max_depth': 7, 'min_samples_split': 4, 'n_estimators': 100}\n",
      "0.755 (+/-0.049) for {'max_depth': 7, 'min_samples_split': 8, 'n_estimators': 10}\n",
      "0.759 (+/-0.046) for {'max_depth': 7, 'min_samples_split': 8, 'n_estimators': 20}\n",
      "0.759 (+/-0.047) for {'max_depth': 7, 'min_samples_split': 8, 'n_estimators': 30}\n",
      "0.755 (+/-0.049) for {'max_depth': 7, 'min_samples_split': 8, 'n_estimators': 50}\n",
      "0.759 (+/-0.042) for {'max_depth': 7, 'min_samples_split': 8, 'n_estimators': 70}\n",
      "0.757 (+/-0.046) for {'max_depth': 7, 'min_samples_split': 8, 'n_estimators': 100}\n",
      "0.757 (+/-0.046) for {'max_depth': 9, 'min_samples_split': 2, 'n_estimators': 10}\n",
      "0.770 (+/-0.032) for {'max_depth': 9, 'min_samples_split': 2, 'n_estimators': 20}\n",
      "0.757 (+/-0.043) for {'max_depth': 9, 'min_samples_split': 2, 'n_estimators': 30}\n",
      "0.771 (+/-0.038) for {'max_depth': 9, 'min_samples_split': 2, 'n_estimators': 50}\n",
      "0.765 (+/-0.054) for {'max_depth': 9, 'min_samples_split': 2, 'n_estimators': 70}\n",
      "0.761 (+/-0.056) for {'max_depth': 9, 'min_samples_split': 2, 'n_estimators': 100}\n",
      "0.768 (+/-0.035) for {'max_depth': 9, 'min_samples_split': 4, 'n_estimators': 10}\n",
      "0.766 (+/-0.038) for {'max_depth': 9, 'min_samples_split': 4, 'n_estimators': 20}\n",
      "0.770 (+/-0.032) for {'max_depth': 9, 'min_samples_split': 4, 'n_estimators': 30}\n",
      "0.763 (+/-0.040) for {'max_depth': 9, 'min_samples_split': 4, 'n_estimators': 50}\n",
      "0.756 (+/-0.048) for {'max_depth': 9, 'min_samples_split': 4, 'n_estimators': 70}\n",
      "0.763 (+/-0.053) for {'max_depth': 9, 'min_samples_split': 4, 'n_estimators': 100}\n",
      "0.761 (+/-0.046) for {'max_depth': 9, 'min_samples_split': 8, 'n_estimators': 10}\n",
      "0.767 (+/-0.046) for {'max_depth': 9, 'min_samples_split': 8, 'n_estimators': 20}\n",
      "0.767 (+/-0.046) for {'max_depth': 9, 'min_samples_split': 8, 'n_estimators': 30}\n",
      "0.765 (+/-0.049) for {'max_depth': 9, 'min_samples_split': 8, 'n_estimators': 50}\n",
      "0.760 (+/-0.041) for {'max_depth': 9, 'min_samples_split': 8, 'n_estimators': 70}\n",
      "0.768 (+/-0.045) for {'max_depth': 9, 'min_samples_split': 8, 'n_estimators': 100}\n",
      "0.788 (+/-0.034) for {'max_depth': 11, 'min_samples_split': 2, 'n_estimators': 10}\n",
      "0.781 (+/-0.030) for {'max_depth': 11, 'min_samples_split': 2, 'n_estimators': 20}\n",
      "0.783 (+/-0.036) for {'max_depth': 11, 'min_samples_split': 2, 'n_estimators': 30}\n",
      "0.783 (+/-0.036) for {'max_depth': 11, 'min_samples_split': 2, 'n_estimators': 50}\n",
      "0.788 (+/-0.029) for {'max_depth': 11, 'min_samples_split': 2, 'n_estimators': 70}\n",
      "0.785 (+/-0.029) for {'max_depth': 11, 'min_samples_split': 2, 'n_estimators': 100}\n",
      "0.786 (+/-0.043) for {'max_depth': 11, 'min_samples_split': 4, 'n_estimators': 10}\n",
      "0.786 (+/-0.043) for {'max_depth': 11, 'min_samples_split': 4, 'n_estimators': 20}\n",
      "0.784 (+/-0.028) for {'max_depth': 11, 'min_samples_split': 4, 'n_estimators': 30}\n",
      "0.789 (+/-0.032) for {'max_depth': 11, 'min_samples_split': 4, 'n_estimators': 50}\n",
      "0.785 (+/-0.033) for {'max_depth': 11, 'min_samples_split': 4, 'n_estimators': 70}\n",
      "0.791 (+/-0.039) for {'max_depth': 11, 'min_samples_split': 4, 'n_estimators': 100}\n",
      "0.780 (+/-0.032) for {'max_depth': 11, 'min_samples_split': 8, 'n_estimators': 10}\n",
      "0.787 (+/-0.037) for {'max_depth': 11, 'min_samples_split': 8, 'n_estimators': 20}\n",
      "0.790 (+/-0.021) for {'max_depth': 11, 'min_samples_split': 8, 'n_estimators': 30}\n",
      "0.791 (+/-0.034) for {'max_depth': 11, 'min_samples_split': 8, 'n_estimators': 50}\n",
      "0.789 (+/-0.026) for {'max_depth': 11, 'min_samples_split': 8, 'n_estimators': 70}\n",
      "0.787 (+/-0.032) for {'max_depth': 11, 'min_samples_split': 8, 'n_estimators': 100}\n",
      "0.794 (+/-0.035) for {'max_depth': 13, 'min_samples_split': 2, 'n_estimators': 10}\n",
      "0.794 (+/-0.033) for {'max_depth': 13, 'min_samples_split': 2, 'n_estimators': 20}\n",
      "0.795 (+/-0.042) for {'max_depth': 13, 'min_samples_split': 2, 'n_estimators': 30}\n",
      "0.794 (+/-0.033) for {'max_depth': 13, 'min_samples_split': 2, 'n_estimators': 50}\n",
      "0.794 (+/-0.043) for {'max_depth': 13, 'min_samples_split': 2, 'n_estimators': 70}\n",
      "0.794 (+/-0.033) for {'max_depth': 13, 'min_samples_split': 2, 'n_estimators': 100}\n",
      "0.793 (+/-0.037) for {'max_depth': 13, 'min_samples_split': 4, 'n_estimators': 10}\n",
      "0.794 (+/-0.026) for {'max_depth': 13, 'min_samples_split': 4, 'n_estimators': 20}\n",
      "0.794 (+/-0.035) for {'max_depth': 13, 'min_samples_split': 4, 'n_estimators': 30}\n",
      "0.792 (+/-0.035) for {'max_depth': 13, 'min_samples_split': 4, 'n_estimators': 50}\n",
      "0.793 (+/-0.024) for {'max_depth': 13, 'min_samples_split': 4, 'n_estimators': 70}\n",
      "0.792 (+/-0.025) for {'max_depth': 13, 'min_samples_split': 4, 'n_estimators': 100}\n",
      "0.796 (+/-0.022) for {'max_depth': 13, 'min_samples_split': 8, 'n_estimators': 10}\n",
      "0.794 (+/-0.033) for {'max_depth': 13, 'min_samples_split': 8, 'n_estimators': 20}\n",
      "0.797 (+/-0.024) for {'max_depth': 13, 'min_samples_split': 8, 'n_estimators': 30}\n",
      "0.797 (+/-0.024) for {'max_depth': 13, 'min_samples_split': 8, 'n_estimators': 50}\n",
      "0.797 (+/-0.022) for {'max_depth': 13, 'min_samples_split': 8, 'n_estimators': 70}\n",
      "0.792 (+/-0.025) for {'max_depth': 13, 'min_samples_split': 8, 'n_estimators': 100}\n"
     ]
    }
   ],
   "source": [
    "for mean, std, params in zip(means, stds, clf.cv_results_['params']):\n",
    "    print(\"%0.3f (+/-%0.03f) for %r\" % (mean, std * 2, params))"
   ]
  },
  {
   "cell_type": "code",
   "execution_count": 63,
   "metadata": {},
   "outputs": [
    {
     "data": {
      "text/plain": [
       "{'max_depth': 13, 'min_samples_split': 8, 'n_estimators': 30}"
      ]
     },
     "execution_count": 63,
     "metadata": {},
     "output_type": "execute_result"
    }
   ],
   "source": [
    "clf.best_params_"
   ]
  },
  {
   "cell_type": "code",
   "execution_count": null,
   "metadata": {},
   "outputs": [],
   "source": []
  }
 ],
 "metadata": {
  "kernelspec": {
   "display_name": "Python 3",
   "language": "python",
   "name": "python3"
  },
  "language_info": {
   "codemirror_mode": {
    "name": "ipython",
    "version": 3
   },
   "file_extension": ".py",
   "mimetype": "text/x-python",
   "name": "python",
   "nbconvert_exporter": "python",
   "pygments_lexer": "ipython3",
   "version": "3.6.4"
  }
 },
 "nbformat": 4,
 "nbformat_minor": 2
}
