{
 "cells": [
  {
   "cell_type": "code",
   "execution_count": 1,
   "metadata": {},
   "outputs": [],
   "source": [
    "import numpy as np\n",
    "import pandas as pd\n",
    "import psycopg2"
   ]
  },
  {
   "cell_type": "code",
   "execution_count": 2,
   "metadata": {},
   "outputs": [],
   "source": [
    "import json\n",
    "\n",
    "with open('config.json') as f:\n",
    "    conf = json.load(f)\n",
    "    host = conf['host']\n",
    "    database = conf['database']\n",
    "    user = conf['user']\n",
    "    passw = conf['passw']"
   ]
  },
  {
   "cell_type": "code",
   "execution_count": 3,
   "metadata": {},
   "outputs": [],
   "source": [
    "conn_str = \"host={} dbname={} user={} password={}\".format(host, database, user, passw)\n",
    "conn = psycopg2.connect(conn_str)"
   ]
  },
  {
   "cell_type": "code",
   "execution_count": 4,
   "metadata": {},
   "outputs": [],
   "source": [
    "query = '''\n",
    "SELECT      DISTINCT inc.incident_id,\n",
    "            date_part('year',inc.incident_date),\n",
    "            vic.age_num,\n",
    "            vic.sex_code AS VICTIM_SEX,\n",
    "            oft.offense_category_name AS OFFENSE_CATEGORY,\n",
    "            ori.countyname AS COUNTY\n",
    "            \n",
    "FROM        nibrs_victim as vic\n",
    "JOIN        nibrs_offense as off\n",
    "ON          off.incident_id = vic.incident_id\n",
    "JOIN        nibrs_offense_type as oft\n",
    "ON          oft.offense_type_id = off.offense_type_id\n",
    "JOIN        nibrs_incident as inc\n",
    "ON          inc.incident_id = vic.incident_id\n",
    "JOIN        cde_agencies as ags\n",
    "ON          ags.agency_id = inc.agency_id\n",
    "JOIN        ori_to_fips as ori\n",
    "ON          ori.ori9 = ags.ori\n",
    "\n",
    "WHERE       vic.victim_type_id = 4\n",
    "AND         inc.incident_date BETWEEN '2016-01-01' AND '2016-12-31';\n",
    "'''"
   ]
  },
  {
   "cell_type": "code",
   "execution_count": 5,
   "metadata": {},
   "outputs": [
    {
     "data": {
      "text/html": [
       "<div>\n",
       "<style scoped>\n",
       "    .dataframe tbody tr th:only-of-type {\n",
       "        vertical-align: middle;\n",
       "    }\n",
       "\n",
       "    .dataframe tbody tr th {\n",
       "        vertical-align: top;\n",
       "    }\n",
       "\n",
       "    .dataframe thead th {\n",
       "        text-align: right;\n",
       "    }\n",
       "</style>\n",
       "<table border=\"1\" class=\"dataframe\">\n",
       "  <thead>\n",
       "    <tr style=\"text-align: right;\">\n",
       "      <th></th>\n",
       "      <th>0</th>\n",
       "      <th>1</th>\n",
       "      <th>2</th>\n",
       "    </tr>\n",
       "  </thead>\n",
       "  <tbody>\n",
       "    <tr>\n",
       "      <th>incident_id</th>\n",
       "      <td>87264241</td>\n",
       "      <td>87264244</td>\n",
       "      <td>87264248</td>\n",
       "    </tr>\n",
       "    <tr>\n",
       "      <th>date_part</th>\n",
       "      <td>2016</td>\n",
       "      <td>2016</td>\n",
       "      <td>2016</td>\n",
       "    </tr>\n",
       "    <tr>\n",
       "      <th>age_num</th>\n",
       "      <td>59</td>\n",
       "      <td>50</td>\n",
       "      <td>26</td>\n",
       "    </tr>\n",
       "    <tr>\n",
       "      <th>victim_sex</th>\n",
       "      <td>F</td>\n",
       "      <td>M</td>\n",
       "      <td>F</td>\n",
       "    </tr>\n",
       "    <tr>\n",
       "      <th>offense_category</th>\n",
       "      <td>Larceny/Theft Offenses</td>\n",
       "      <td>Fraud Offenses</td>\n",
       "      <td>Larceny/Theft Offenses</td>\n",
       "    </tr>\n",
       "    <tr>\n",
       "      <th>county</th>\n",
       "      <td>BURNET</td>\n",
       "      <td>BURNET</td>\n",
       "      <td>BURNET</td>\n",
       "    </tr>\n",
       "  </tbody>\n",
       "</table>\n",
       "</div>"
      ],
      "text/plain": [
       "                                       0               1  \\\n",
       "incident_id                     87264241        87264244   \n",
       "date_part                           2016            2016   \n",
       "age_num                               59              50   \n",
       "victim_sex                             F               M   \n",
       "offense_category  Larceny/Theft Offenses  Fraud Offenses   \n",
       "county                            BURNET          BURNET   \n",
       "\n",
       "                                       2  \n",
       "incident_id                     87264248  \n",
       "date_part                           2016  \n",
       "age_num                               26  \n",
       "victim_sex                             F  \n",
       "offense_category  Larceny/Theft Offenses  \n",
       "county                            BURNET  "
      ]
     },
     "execution_count": 5,
     "metadata": {},
     "output_type": "execute_result"
    }
   ],
   "source": [
    "df = pd.read_sql(query, con=conn)\n",
    "df.head(3).T"
   ]
  },
  {
   "cell_type": "code",
   "execution_count": 6,
   "metadata": {},
   "outputs": [
    {
     "data": {
      "text/html": [
       "<div>\n",
       "<style scoped>\n",
       "    .dataframe tbody tr th:only-of-type {\n",
       "        vertical-align: middle;\n",
       "    }\n",
       "\n",
       "    .dataframe tbody tr th {\n",
       "        vertical-align: top;\n",
       "    }\n",
       "\n",
       "    .dataframe thead th {\n",
       "        text-align: right;\n",
       "    }\n",
       "</style>\n",
       "<table border=\"1\" class=\"dataframe\">\n",
       "  <thead>\n",
       "    <tr style=\"text-align: right;\">\n",
       "      <th></th>\n",
       "      <th>county</th>\n",
       "      <th>crime_cnt</th>\n",
       "    </tr>\n",
       "  </thead>\n",
       "  <tbody>\n",
       "    <tr>\n",
       "      <th>0</th>\n",
       "      <td>BELL</td>\n",
       "      <td>3348</td>\n",
       "    </tr>\n",
       "    <tr>\n",
       "      <th>1</th>\n",
       "      <td>BEXAR</td>\n",
       "      <td>392</td>\n",
       "    </tr>\n",
       "    <tr>\n",
       "      <th>2</th>\n",
       "      <td>BRAZORIA</td>\n",
       "      <td>2994</td>\n",
       "    </tr>\n",
       "    <tr>\n",
       "      <th>3</th>\n",
       "      <td>BREWSTER</td>\n",
       "      <td>70</td>\n",
       "    </tr>\n",
       "    <tr>\n",
       "      <th>4</th>\n",
       "      <td>BURNET</td>\n",
       "      <td>342</td>\n",
       "    </tr>\n",
       "    <tr>\n",
       "      <th>5</th>\n",
       "      <td>CALHOUN</td>\n",
       "      <td>756</td>\n",
       "    </tr>\n",
       "    <tr>\n",
       "      <th>6</th>\n",
       "      <td>CAMERON</td>\n",
       "      <td>2</td>\n",
       "    </tr>\n",
       "    <tr>\n",
       "      <th>7</th>\n",
       "      <td>COLLIN</td>\n",
       "      <td>16800</td>\n",
       "    </tr>\n",
       "    <tr>\n",
       "      <th>8</th>\n",
       "      <td>CORYELL</td>\n",
       "      <td>111</td>\n",
       "    </tr>\n",
       "    <tr>\n",
       "      <th>9</th>\n",
       "      <td>DALLAS</td>\n",
       "      <td>4395</td>\n",
       "    </tr>\n",
       "    <tr>\n",
       "      <th>10</th>\n",
       "      <td>DE WITT</td>\n",
       "      <td>311</td>\n",
       "    </tr>\n",
       "    <tr>\n",
       "      <th>11</th>\n",
       "      <td>DENTON</td>\n",
       "      <td>10999</td>\n",
       "    </tr>\n",
       "    <tr>\n",
       "      <th>12</th>\n",
       "      <td>GOLIAD</td>\n",
       "      <td>200</td>\n",
       "    </tr>\n",
       "    <tr>\n",
       "      <th>13</th>\n",
       "      <td>GREGG</td>\n",
       "      <td>5563</td>\n",
       "    </tr>\n",
       "    <tr>\n",
       "      <th>14</th>\n",
       "      <td>HARDEMAN</td>\n",
       "      <td>63</td>\n",
       "    </tr>\n",
       "    <tr>\n",
       "      <th>15</th>\n",
       "      <td>HARDIN</td>\n",
       "      <td>383</td>\n",
       "    </tr>\n",
       "    <tr>\n",
       "      <th>16</th>\n",
       "      <td>HARRIS</td>\n",
       "      <td>1207</td>\n",
       "    </tr>\n",
       "    <tr>\n",
       "      <th>17</th>\n",
       "      <td>HIDALGO</td>\n",
       "      <td>301</td>\n",
       "    </tr>\n",
       "    <tr>\n",
       "      <th>18</th>\n",
       "      <td>HUNT</td>\n",
       "      <td>108</td>\n",
       "    </tr>\n",
       "    <tr>\n",
       "      <th>19</th>\n",
       "      <td>HUTCHINSON</td>\n",
       "      <td>360</td>\n",
       "    </tr>\n",
       "    <tr>\n",
       "      <th>20</th>\n",
       "      <td>JACKSON</td>\n",
       "      <td>311</td>\n",
       "    </tr>\n",
       "    <tr>\n",
       "      <th>21</th>\n",
       "      <td>JEFFERSON</td>\n",
       "      <td>177</td>\n",
       "    </tr>\n",
       "    <tr>\n",
       "      <th>22</th>\n",
       "      <td>JOHNSON</td>\n",
       "      <td>1365</td>\n",
       "    </tr>\n",
       "    <tr>\n",
       "      <th>23</th>\n",
       "      <td>KAUFMAN</td>\n",
       "      <td>2875</td>\n",
       "    </tr>\n",
       "    <tr>\n",
       "      <th>24</th>\n",
       "      <td>KENDALL</td>\n",
       "      <td>292</td>\n",
       "    </tr>\n",
       "    <tr>\n",
       "      <th>25</th>\n",
       "      <td>LAMAR</td>\n",
       "      <td>91</td>\n",
       "    </tr>\n",
       "    <tr>\n",
       "      <th>26</th>\n",
       "      <td>LAMPASAS</td>\n",
       "      <td>150</td>\n",
       "    </tr>\n",
       "    <tr>\n",
       "      <th>27</th>\n",
       "      <td>LAVACA</td>\n",
       "      <td>128</td>\n",
       "    </tr>\n",
       "    <tr>\n",
       "      <th>28</th>\n",
       "      <td>LEON</td>\n",
       "      <td>37</td>\n",
       "    </tr>\n",
       "    <tr>\n",
       "      <th>29</th>\n",
       "      <td>LUBBOCK</td>\n",
       "      <td>1421</td>\n",
       "    </tr>\n",
       "    <tr>\n",
       "      <th>30</th>\n",
       "      <td>MADISON</td>\n",
       "      <td>31</td>\n",
       "    </tr>\n",
       "    <tr>\n",
       "      <th>31</th>\n",
       "      <td>MCLENNAN</td>\n",
       "      <td>2102</td>\n",
       "    </tr>\n",
       "    <tr>\n",
       "      <th>32</th>\n",
       "      <td>MILAM</td>\n",
       "      <td>32</td>\n",
       "    </tr>\n",
       "    <tr>\n",
       "      <th>33</th>\n",
       "      <td>MONTGOMERY</td>\n",
       "      <td>3000</td>\n",
       "    </tr>\n",
       "    <tr>\n",
       "      <th>34</th>\n",
       "      <td>NACOGDOCHES</td>\n",
       "      <td>2473</td>\n",
       "    </tr>\n",
       "    <tr>\n",
       "      <th>35</th>\n",
       "      <td>OCHILTREE</td>\n",
       "      <td>47</td>\n",
       "    </tr>\n",
       "    <tr>\n",
       "      <th>36</th>\n",
       "      <td>PARKER</td>\n",
       "      <td>1667</td>\n",
       "    </tr>\n",
       "    <tr>\n",
       "      <th>37</th>\n",
       "      <td>POLK</td>\n",
       "      <td>797</td>\n",
       "    </tr>\n",
       "    <tr>\n",
       "      <th>38</th>\n",
       "      <td>POTTER</td>\n",
       "      <td>16635</td>\n",
       "    </tr>\n",
       "    <tr>\n",
       "      <th>39</th>\n",
       "      <td>RANDALL</td>\n",
       "      <td>103</td>\n",
       "    </tr>\n",
       "    <tr>\n",
       "      <th>40</th>\n",
       "      <td>ROCKWALL</td>\n",
       "      <td>1658</td>\n",
       "    </tr>\n",
       "    <tr>\n",
       "      <th>41</th>\n",
       "      <td>RUSK</td>\n",
       "      <td>2219</td>\n",
       "    </tr>\n",
       "    <tr>\n",
       "      <th>42</th>\n",
       "      <td>SAN PATRICIO</td>\n",
       "      <td>427</td>\n",
       "    </tr>\n",
       "    <tr>\n",
       "      <th>43</th>\n",
       "      <td>SAN SABA</td>\n",
       "      <td>49</td>\n",
       "    </tr>\n",
       "    <tr>\n",
       "      <th>44</th>\n",
       "      <td>SHELBY</td>\n",
       "      <td>28</td>\n",
       "    </tr>\n",
       "    <tr>\n",
       "      <th>45</th>\n",
       "      <td>SMITH</td>\n",
       "      <td>6283</td>\n",
       "    </tr>\n",
       "    <tr>\n",
       "      <th>46</th>\n",
       "      <td>STARR</td>\n",
       "      <td>32</td>\n",
       "    </tr>\n",
       "    <tr>\n",
       "      <th>47</th>\n",
       "      <td>TARRANT</td>\n",
       "      <td>49434</td>\n",
       "    </tr>\n",
       "    <tr>\n",
       "      <th>48</th>\n",
       "      <td>TOM GREEN</td>\n",
       "      <td>8971</td>\n",
       "    </tr>\n",
       "    <tr>\n",
       "      <th>49</th>\n",
       "      <td>TRAVIS</td>\n",
       "      <td>489</td>\n",
       "    </tr>\n",
       "    <tr>\n",
       "      <th>50</th>\n",
       "      <td>VICTORIA</td>\n",
       "      <td>4874</td>\n",
       "    </tr>\n",
       "    <tr>\n",
       "      <th>51</th>\n",
       "      <td>WALKER</td>\n",
       "      <td>854</td>\n",
       "    </tr>\n",
       "    <tr>\n",
       "      <th>52</th>\n",
       "      <td>WHARTON</td>\n",
       "      <td>744</td>\n",
       "    </tr>\n",
       "    <tr>\n",
       "      <th>53</th>\n",
       "      <td>WICHITA</td>\n",
       "      <td>145</td>\n",
       "    </tr>\n",
       "    <tr>\n",
       "      <th>54</th>\n",
       "      <td>WILLACY</td>\n",
       "      <td>115</td>\n",
       "    </tr>\n",
       "    <tr>\n",
       "      <th>55</th>\n",
       "      <td>WILLIAMSON</td>\n",
       "      <td>1598</td>\n",
       "    </tr>\n",
       "    <tr>\n",
       "      <th>56</th>\n",
       "      <td>WISE</td>\n",
       "      <td>206</td>\n",
       "    </tr>\n",
       "    <tr>\n",
       "      <th>57</th>\n",
       "      <td>YOUNG</td>\n",
       "      <td>33</td>\n",
       "    </tr>\n",
       "    <tr>\n",
       "      <th>58</th>\n",
       "      <td>ZAVALA</td>\n",
       "      <td>218</td>\n",
       "    </tr>\n",
       "  </tbody>\n",
       "</table>\n",
       "</div>"
      ],
      "text/plain": [
       "          county  crime_cnt\n",
       "0           BELL       3348\n",
       "1          BEXAR        392\n",
       "2       BRAZORIA       2994\n",
       "3       BREWSTER         70\n",
       "4         BURNET        342\n",
       "5        CALHOUN        756\n",
       "6        CAMERON          2\n",
       "7         COLLIN      16800\n",
       "8        CORYELL        111\n",
       "9         DALLAS       4395\n",
       "10       DE WITT        311\n",
       "11        DENTON      10999\n",
       "12        GOLIAD        200\n",
       "13         GREGG       5563\n",
       "14      HARDEMAN         63\n",
       "15        HARDIN        383\n",
       "16        HARRIS       1207\n",
       "17       HIDALGO        301\n",
       "18          HUNT        108\n",
       "19    HUTCHINSON        360\n",
       "20       JACKSON        311\n",
       "21     JEFFERSON        177\n",
       "22       JOHNSON       1365\n",
       "23       KAUFMAN       2875\n",
       "24       KENDALL        292\n",
       "25         LAMAR         91\n",
       "26      LAMPASAS        150\n",
       "27        LAVACA        128\n",
       "28          LEON         37\n",
       "29       LUBBOCK       1421\n",
       "30       MADISON         31\n",
       "31      MCLENNAN       2102\n",
       "32         MILAM         32\n",
       "33    MONTGOMERY       3000\n",
       "34   NACOGDOCHES       2473\n",
       "35     OCHILTREE         47\n",
       "36        PARKER       1667\n",
       "37          POLK        797\n",
       "38        POTTER      16635\n",
       "39       RANDALL        103\n",
       "40      ROCKWALL       1658\n",
       "41          RUSK       2219\n",
       "42  SAN PATRICIO        427\n",
       "43      SAN SABA         49\n",
       "44        SHELBY         28\n",
       "45         SMITH       6283\n",
       "46         STARR         32\n",
       "47       TARRANT      49434\n",
       "48     TOM GREEN       8971\n",
       "49        TRAVIS        489\n",
       "50      VICTORIA       4874\n",
       "51        WALKER        854\n",
       "52       WHARTON        744\n",
       "53       WICHITA        145\n",
       "54       WILLACY        115\n",
       "55    WILLIAMSON       1598\n",
       "56          WISE        206\n",
       "57         YOUNG         33\n",
       "58        ZAVALA        218"
      ]
     },
     "execution_count": 6,
     "metadata": {},
     "output_type": "execute_result"
    }
   ],
   "source": [
    "crime_df = df.groupby(['county']).incident_id.agg('count')\n",
    "crime_df = crime_df.to_frame().reset_index()\n",
    "crime_df = crime_df.rename({'incident_id': 'crime_cnt'}, axis='columns')\n",
    "crime_df"
   ]
  },
  {
   "cell_type": "code",
   "execution_count": 7,
   "metadata": {},
   "outputs": [],
   "source": [
    "df =df.join(crime_df.set_index('county'), on='county')"
   ]
  },
  {
   "cell_type": "code",
   "execution_count": 8,
   "metadata": {},
   "outputs": [
    {
     "data": {
      "text/html": [
       "<div>\n",
       "<style scoped>\n",
       "    .dataframe tbody tr th:only-of-type {\n",
       "        vertical-align: middle;\n",
       "    }\n",
       "\n",
       "    .dataframe tbody tr th {\n",
       "        vertical-align: top;\n",
       "    }\n",
       "\n",
       "    .dataframe thead th {\n",
       "        text-align: right;\n",
       "    }\n",
       "</style>\n",
       "<table border=\"1\" class=\"dataframe\">\n",
       "  <thead>\n",
       "    <tr style=\"text-align: right;\">\n",
       "      <th></th>\n",
       "      <th>incident_id</th>\n",
       "      <th>date_part</th>\n",
       "      <th>age_num</th>\n",
       "      <th>victim_sex</th>\n",
       "      <th>offense_category</th>\n",
       "      <th>county</th>\n",
       "      <th>crime_cnt</th>\n",
       "    </tr>\n",
       "  </thead>\n",
       "  <tbody>\n",
       "    <tr>\n",
       "      <th>0</th>\n",
       "      <td>87264241</td>\n",
       "      <td>2016.0</td>\n",
       "      <td>59.0</td>\n",
       "      <td>F</td>\n",
       "      <td>Larceny/Theft Offenses</td>\n",
       "      <td>BURNET</td>\n",
       "      <td>342</td>\n",
       "    </tr>\n",
       "    <tr>\n",
       "      <th>1</th>\n",
       "      <td>87264244</td>\n",
       "      <td>2016.0</td>\n",
       "      <td>50.0</td>\n",
       "      <td>M</td>\n",
       "      <td>Fraud Offenses</td>\n",
       "      <td>BURNET</td>\n",
       "      <td>342</td>\n",
       "    </tr>\n",
       "    <tr>\n",
       "      <th>2</th>\n",
       "      <td>87264248</td>\n",
       "      <td>2016.0</td>\n",
       "      <td>26.0</td>\n",
       "      <td>F</td>\n",
       "      <td>Larceny/Theft Offenses</td>\n",
       "      <td>BURNET</td>\n",
       "      <td>342</td>\n",
       "    </tr>\n",
       "    <tr>\n",
       "      <th>3</th>\n",
       "      <td>87264256</td>\n",
       "      <td>2016.0</td>\n",
       "      <td>25.0</td>\n",
       "      <td>F</td>\n",
       "      <td>Assault Offenses</td>\n",
       "      <td>CAMERON</td>\n",
       "      <td>2</td>\n",
       "    </tr>\n",
       "    <tr>\n",
       "      <th>4</th>\n",
       "      <td>87264264</td>\n",
       "      <td>2016.0</td>\n",
       "      <td>26.0</td>\n",
       "      <td>M</td>\n",
       "      <td>Larceny/Theft Offenses</td>\n",
       "      <td>CAMERON</td>\n",
       "      <td>2</td>\n",
       "    </tr>\n",
       "  </tbody>\n",
       "</table>\n",
       "</div>"
      ],
      "text/plain": [
       "   incident_id  date_part  age_num victim_sex        offense_category  \\\n",
       "0     87264241     2016.0     59.0          F  Larceny/Theft Offenses   \n",
       "1     87264244     2016.0     50.0          M          Fraud Offenses   \n",
       "2     87264248     2016.0     26.0          F  Larceny/Theft Offenses   \n",
       "3     87264256     2016.0     25.0          F        Assault Offenses   \n",
       "4     87264264     2016.0     26.0          M  Larceny/Theft Offenses   \n",
       "\n",
       "    county  crime_cnt  \n",
       "0   BURNET        342  \n",
       "1   BURNET        342  \n",
       "2   BURNET        342  \n",
       "3  CAMERON          2  \n",
       "4  CAMERON          2  "
      ]
     },
     "execution_count": 8,
     "metadata": {},
     "output_type": "execute_result"
    }
   ],
   "source": [
    "df.head()"
   ]
  },
  {
   "cell_type": "code",
   "execution_count": 9,
   "metadata": {},
   "outputs": [],
   "source": [
    "age_df = df[['victim_sex','age_num']]"
   ]
  },
  {
   "cell_type": "code",
   "execution_count": 14,
   "metadata": {},
   "outputs": [
    {
     "data": {
      "image/png": "[encoded data removed]",
      "text/plain": [
       "<matplotlib.figure.Figure at 0x7f13b381f6a0>"
      ]
     },
     "metadata": {},
     "output_type": "display_data"
    }
   ],
   "source": [
    "age_df.columns = ['victim_sex','age_num']\n",
    "age_df = age_df[age_df[\"victim_sex\"] != 'U']\n",
    "\n",
    "axarr = age_df.hist(column='age_num', by ='victim_sex', bins=25, rwidth=0.9, sharex=False, sharey=True, layout = (1, 2), figsize=(10,5))\n",
    "\n",
    "for ax in axarr.flatten():\n",
    "    ax.set_xlabel(\"Age\")\n",
    "    ax.set_ylabel(\"Victim Count\")"
   ]
  },
  {
   "cell_type": "code",
   "execution_count": 11,
   "metadata": {},
   "outputs": [],
   "source": [
    "import seaborn as sns\n",
    "import matplotlib.pyplot as plt\n",
    "\n",
    "age_df = age_df[age_df[\"victim_sex\"] != 'U']\n",
    "age_df.dropna(subset=['age_num'], inplace=True)\n",
    "f = pd.Series(age_df.age_num[age_df[\"victim_sex\"] == 'F'])\n",
    "m = pd.Series(age_df.age_num[age_df[\"victim_sex\"] == 'M'])"
   ]
  },
  {
   "cell_type": "code",
   "execution_count": 12,
   "metadata": {},
   "outputs": [
    {
     "name": "stderr",
     "output_type": "stream",
     "text": [
      "/home/kendal/anaconda3/lib/python3.6/site-packages/scipy/stats/stats.py:1706: FutureWarning: Using a non-tuple sequence for multidimensional indexing is deprecated; use `arr[tuple(seq)]` instead of `arr[seq]`. In the future this will be interpreted as an array index, `arr[np.array(seq)]`, which will result either in an error or a different result.\n",
      "  return np.add.reduce(sorted[indexer] * weights, axis=axis) / sumval\n"
     ]
    },
    {
     "data": {
      "image/png": "[encoded data removed]",
      "text/plain": [
       "<matplotlib.figure.Figure at 0x7f13bfa4bda0>"
      ]
     },
     "metadata": {},
     "output_type": "display_data"
    }
   ],
   "source": [
    "fig, ax = plt.subplots(figsize=(5, 7))\n",
    "ax = sns.distplot(f, label='Female')\n",
    "ax = sns.distplot(m, axlabel='Victim Age', label='Male')\n",
    "ax.legend()\n",
    "plt.title('Crimes Against Men and Women by Their Age')\n",
    "plt.show()"
   ]
  },
  {
   "cell_type": "code",
   "execution_count": 43,
   "metadata": {},
   "outputs": [
    {
     "data": {
      "text/html": [
       "<div>\n",
       "<style scoped>\n",
       "    .dataframe tbody tr th:only-of-type {\n",
       "        vertical-align: middle;\n",
       "    }\n",
       "\n",
       "    .dataframe tbody tr th {\n",
       "        vertical-align: top;\n",
       "    }\n",
       "\n",
       "    .dataframe thead th {\n",
       "        text-align: right;\n",
       "    }\n",
       "</style>\n",
       "<table border=\"1\" class=\"dataframe\">\n",
       "  <thead>\n",
       "    <tr style=\"text-align: right;\">\n",
       "      <th></th>\n",
       "      <th>victim_sex</th>\n",
       "      <th>offense_category</th>\n",
       "    </tr>\n",
       "  </thead>\n",
       "  <tbody>\n",
       "    <tr>\n",
       "      <th>0</th>\n",
       "      <td>F</td>\n",
       "      <td>Larceny/Theft Offenses</td>\n",
       "    </tr>\n",
       "    <tr>\n",
       "      <th>1</th>\n",
       "      <td>M</td>\n",
       "      <td>Fraud Offenses</td>\n",
       "    </tr>\n",
       "    <tr>\n",
       "      <th>2</th>\n",
       "      <td>F</td>\n",
       "      <td>Larceny/Theft Offenses</td>\n",
       "    </tr>\n",
       "    <tr>\n",
       "      <th>3</th>\n",
       "      <td>F</td>\n",
       "      <td>Assault Offenses</td>\n",
       "    </tr>\n",
       "    <tr>\n",
       "      <th>4</th>\n",
       "      <td>M</td>\n",
       "      <td>Larceny/Theft Offenses</td>\n",
       "    </tr>\n",
       "  </tbody>\n",
       "</table>\n",
       "</div>"
      ],
      "text/plain": [
       "  victim_sex        offense_category\n",
       "0          F  Larceny/Theft Offenses\n",
       "1          M          Fraud Offenses\n",
       "2          F  Larceny/Theft Offenses\n",
       "3          F        Assault Offenses\n",
       "4          M  Larceny/Theft Offenses"
      ]
     },
     "execution_count": 43,
     "metadata": {},
     "output_type": "execute_result"
    }
   ],
   "source": [
    "off_df = df[['victim_sex','offense_category']]\n",
    "off_df.head()"
   ]
  },
  {
   "cell_type": "code",
   "execution_count": 44,
   "metadata": {},
   "outputs": [
    {
     "data": {
      "text/plain": [
       "array(['Larceny/Theft Offenses', 'Fraud Offenses', 'Assault Offenses',\n",
       "       'Destruction/Damage/Vandalism of Property',\n",
       "       'Burglary/Breaking & Entering', 'Counterfeiting/Forgery',\n",
       "       'Motor Vehicle Theft', 'Robbery', 'Drug/Narcotic Offenses',\n",
       "       'Sex Offenses', 'Extortion/Blackmail', 'Weapon Law Violations',\n",
       "       'Kidnapping/Abduction', 'Homicide Offenses',\n",
       "       'Pornography/Obscene Material', 'Arson',\n",
       "       'Stolen Property Offenses', 'Embezzlement', 'Human Trafficking',\n",
       "       'Bribery', 'Prostitution Offenses'], dtype=object)"
      ]
     },
     "execution_count": 44,
     "metadata": {},
     "output_type": "execute_result"
    }
   ],
   "source": [
    "off_df.offense_category.unique()"
   ]
  },
  {
   "cell_type": "code",
   "execution_count": 50,
   "metadata": {},
   "outputs": [],
   "source": [
    "off_df = off_df.replace({'offense_category' : { 'Arson' : 'Other','Stolen Property Offenses' : 'Other', \n",
    "                                      'Embezzlement' : 'Other', 'Pornography/Obscene Material' : 'Other',\n",
    "                                      'Prostitution Offenses' : 'Other', 'Bribery' : 'Other',\n",
    "                                      'Human Trafficking' : 'Other' }})"
   ]
  },
  {
   "cell_type": "code",
   "execution_count": 52,
   "metadata": {},
   "outputs": [
    {
     "data": {
      "text/plain": [
       "Larceny/Theft Offenses                      50944\n",
       "Assault Offenses                            43404\n",
       "Destruction/Damage/Vandalism of Property    19442\n",
       "Burglary/Breaking & Entering                16122\n",
       "Fraud Offenses                              12070\n",
       "Motor Vehicle Theft                          6941\n",
       "Robbery                                      3216\n",
       "Sex Offenses                                 2901\n",
       "Counterfeiting/Forgery                       1985\n",
       "Drug/Narcotic Offenses                       1624\n",
       "Kidnapping/Abduction                          821\n",
       "Other                                         651\n",
       "Weapon Law Violations                         479\n",
       "Homicide Offenses                             174\n",
       "Extortion/Blackmail                            42\n",
       "Name: offense_category, dtype: int64"
      ]
     },
     "execution_count": 52,
     "metadata": {},
     "output_type": "execute_result"
    }
   ],
   "source": [
    "off_df.offense_category.value_counts()"
   ]
  },
  {
   "cell_type": "code",
   "execution_count": 53,
   "metadata": {},
   "outputs": [
    {
     "data": {
      "image/png": "[encoded data removed]",
      "text/plain": [
       "<matplotlib.figure.Figure at 0x7f13b2b325c0>"
      ]
     },
     "metadata": {},
     "output_type": "display_data"
    }
   ],
   "source": [
    "off_df.columns = ['victim_sex','offense_category']\n",
    "off_df = off_df[off_df[\"victim_sex\"] != 'U']\n",
    "\n",
    "axarr = off_df.hist(column='offense_category', by = 'victim_sex', bins=15, sharex=True, sharey=True, layout = (1, 2), figsize=(15,5))\n",
    "\n",
    "for ax in axarr.flatten():\n",
    "    ax.set_xlabel(\"Offense Category\")\n",
    "    ax.set_ylabel(\"Victim Count\")"
   ]
  },
  {
   "cell_type": "code",
   "execution_count": 54,
   "metadata": {},
   "outputs": [],
   "source": [
    "f_df = off_df[off_df[\"victim_sex\"] == 'F']\n",
    "m_df = off_df[off_df[\"victim_sex\"] == 'M']"
   ]
  },
  {
   "cell_type": "code",
   "execution_count": 55,
   "metadata": {},
   "outputs": [
    {
     "data": {
      "image/png": "[encoded data removed]",
      "text/plain": [
       "<matplotlib.figure.Figure at 0x7f13b2b32908>"
      ]
     },
     "metadata": {},
     "output_type": "display_data"
    }
   ],
   "source": [
    "import seaborn as sns\n",
    "import matplotlib.pyplot as plt\n",
    "sns.set(style=\"ticks\", color_codes=True)\n",
    "sns.set(rc={'figure.figsize':(5,5)})\n",
    "\n",
    "ax = sns.catplot(y=\"offense_category\", kind=\"count\", palette=\"colorblind\", height=7, data=m_df);\n",
    "\n",
    "plt.title('Crimes Against Men by Crime Category')\n",
    "plt.show()"
   ]
  },
  {
   "cell_type": "code",
   "execution_count": 59,
   "metadata": {},
   "outputs": [
    {
     "data": {
      "text/plain": [
       "Larceny/Theft Offenses                      27161\n",
       "Assault Offenses                            17222\n",
       "Destruction/Damage/Vandalism of Property     9342\n",
       "Burglary/Breaking & Entering                 8649\n",
       "Fraud Offenses                               5610\n",
       "Motor Vehicle Theft                          4477\n",
       "Robbery                                      2118\n",
       "Counterfeiting/Forgery                        982\n",
       "Drug/Narcotic Offenses                        814\n",
       "Sex Offenses                                  386\n",
       "Other                                         329\n",
       "Kidnapping/Abduction                          308\n",
       "Weapon Law Violations                         240\n",
       "Homicide Offenses                             119\n",
       "Extortion/Blackmail                            23\n",
       "Name: offense_category, dtype: int64"
      ]
     },
     "execution_count": 59,
     "metadata": {},
     "output_type": "execute_result"
    }
   ],
   "source": [
    "m_df.offense_category.value_counts()"
   ]
  },
  {
   "cell_type": "code",
   "execution_count": 58,
   "metadata": {},
   "outputs": [
    {
     "data": {
      "image/png": "[encoded data removed]",
      "text/plain": [
       "<matplotlib.figure.Figure at 0x7f13b02de5c0>"
      ]
     },
     "metadata": {},
     "output_type": "display_data"
    }
   ],
   "source": [
    "ax = sns.catplot(y=\"offense_category\", kind=\"count\", palette=\"colorblind\", height=7, data=f_df,\n",
    "                order = ['Fraud Offenses', 'Larceny/Theft Offenses', 'Assault Offenses', \n",
    "                         'Destruction/Damage/Vandalism of Property', 'Burglary/Breaking & Entering',\n",
    "                        'Motor Vehicle Theft', 'Robbery','Drug/Narcotic Offenses', 'Counterfeiting/Forgery',\n",
    "                        'Extortion/Blackmail', 'Sex Offenses', 'Homicide Offenses', 'Other',\n",
    "                        'Weapon Law Violations', 'Kidnapping/Abduction']);\n",
    "\n",
    "plt.title('Crimes Against Women by Crime Category')\n",
    "plt.show()"
   ]
  },
  {
   "cell_type": "code",
   "execution_count": 60,
   "metadata": {},
   "outputs": [
    {
     "data": {
      "text/plain": [
       "Assault Offenses                            26105\n",
       "Larceny/Theft Offenses                      23535\n",
       "Destruction/Damage/Vandalism of Property     9988\n",
       "Burglary/Breaking & Entering                 7422\n",
       "Fraud Offenses                               6344\n",
       "Sex Offenses                                 2512\n",
       "Motor Vehicle Theft                          2428\n",
       "Robbery                                      1090\n",
       "Counterfeiting/Forgery                        947\n",
       "Drug/Narcotic Offenses                        718\n",
       "Kidnapping/Abduction                          512\n",
       "Other                                         248\n",
       "Weapon Law Violations                         196\n",
       "Homicide Offenses                              52\n",
       "Extortion/Blackmail                            19\n",
       "Name: offense_category, dtype: int64"
      ]
     },
     "execution_count": 60,
     "metadata": {},
     "output_type": "execute_result"
    }
   ],
   "source": [
    "f_df.offense_category.value_counts()"
   ]
  },
  {
   "cell_type": "markdown",
   "metadata": {},
   "source": [
    "### Calculate Percent Increase of Assault Offenses Against Women vs Men"
   ]
  },
  {
   "cell_type": "code",
   "execution_count": 61,
   "metadata": {},
   "outputs": [
    {
     "data": {
      "text/plain": [
       "0.5157937521774475"
      ]
     },
     "execution_count": 61,
     "metadata": {},
     "output_type": "execute_result"
    }
   ],
   "source": [
    "(26105-17222)/17222"
   ]
  },
  {
   "cell_type": "markdown",
   "metadata": {},
   "source": [
    "### Calculate Percent Increase of Larceny Offenses Against Women vs Men"
   ]
  },
  {
   "cell_type": "code",
   "execution_count": 64,
   "metadata": {},
   "outputs": [
    {
     "data": {
      "text/plain": [
       "0.1540684087529212"
      ]
     },
     "execution_count": 64,
     "metadata": {},
     "output_type": "execute_result"
    }
   ],
   "source": [
    "(27161-23535)/23535"
   ]
  },
  {
   "cell_type": "code",
   "execution_count": null,
   "metadata": {},
   "outputs": [],
   "source": [
    "[27161,17222,9342,8649,5610,4477,2118,982,814,386,329,308,240,119,23]\n",
    "[23535,26105,9988,7422,6344,2428,1090,947,718,2512,248,512,196,52,19] "
   ]
  },
  {
   "cell_type": "code",
   "execution_count": 68,
   "metadata": {},
   "outputs": [
    {
     "data": {
      "text/plain": [
       "(3095.774361102716,\n",
       " 0.0,\n",
       " 2,\n",
       " array([[23313.72668462, 27278.89510013,  1559.37821525],\n",
       "        [20013.27331538, 23417.10489987,  1338.62178475]]))"
      ]
     },
     "execution_count": 68,
     "metadata": {},
     "output_type": "execute_result"
    }
   ],
   "source": [
    "from scipy.stats import chi2_contingency\n",
    "obs = np.array([[26105, 23535, 2512], [17222, 27161, 386]])\n",
    "chi2 = chi2_contingency(obs)\n",
    "chi2"
   ]
  },
  {
   "cell_type": "code",
   "execution_count": 69,
   "metadata": {},
   "outputs": [
    {
     "data": {
      "text/plain": [
       "(4723.733794475081,\n",
       " 0.0,\n",
       " 14,\n",
       " array([[2.46606224e+04, 2.10760373e+04, 9.40290814e+03, 7.81759631e+03,\n",
       "         5.81491795e+03, 3.35887639e+03, 1.56050333e+03, 9.38345049e+02,\n",
       "         7.45227898e+02, 1.40970656e+03, 2.80676565e+02, 3.98881773e+02,\n",
       "         2.12088357e+02, 8.31814429e+01, 2.04305298e+01],\n",
       "        [2.60353776e+04, 2.22509627e+04, 9.92709186e+03, 8.25340369e+03,\n",
       "         6.13908205e+03, 3.54612361e+03, 1.64749667e+03, 9.90654951e+02,\n",
       "         7.86772102e+02, 1.48829344e+03, 2.96323435e+02, 4.21118227e+02,\n",
       "         2.23911643e+02, 8.78185571e+01, 2.15694702e+01]]))"
      ]
     },
     "execution_count": 69,
     "metadata": {},
     "output_type": "execute_result"
    }
   ],
   "source": [
    "from scipy.stats import chi2_contingency\n",
    "obs = np.array([[27161,17222,9342,8649,5610,4477,2118,982,814,386,329,308,240,119,23], \n",
    "                [23535,26105,9988,7422,6344,2428,1090,947,718,2512,248,512,196,52,19] ])\n",
    "chi2 = chi2_contingency(obs)\n",
    "chi2"
   ]
  },
  {
   "cell_type": "code",
   "execution_count": null,
   "metadata": {},
   "outputs": [],
   "source": [
    "df['victim_sex'].value_counts()"
   ]
  },
  {
   "cell_type": "code",
   "execution_count": null,
   "metadata": {},
   "outputs": [],
   "source": [
    "df['offense_category'].unique()"
   ]
  },
  {
   "cell_type": "code",
   "execution_count": null,
   "metadata": {},
   "outputs": [],
   "source": [
    "df.groupby(['victim_sex','offense_category']).incident_id.agg('count')"
   ]
  },
  {
   "cell_type": "code",
   "execution_count": null,
   "metadata": {},
   "outputs": [],
   "source": [
    "hospitals = pd.read_csv('hosp_query.csv')\n",
    "hospitals.head(3).T"
   ]
  },
  {
   "cell_type": "code",
   "execution_count": null,
   "metadata": {},
   "outputs": [],
   "source": [
    "hospitals['beds'] = hospitals['beds'].clip_lower(0)"
   ]
  },
  {
   "cell_type": "code",
   "execution_count": null,
   "metadata": {},
   "outputs": [],
   "source": [
    "hosp_cnt = hospitals.groupby('county').hosp_id.agg('count')"
   ]
  },
  {
   "cell_type": "code",
   "execution_count": null,
   "metadata": {},
   "outputs": [],
   "source": [
    "hosp_cnt = hosp_cnt.to_frame().reset_index()"
   ]
  },
  {
   "cell_type": "code",
   "execution_count": null,
   "metadata": {},
   "outputs": [],
   "source": [
    "hosp_cnt"
   ]
  },
  {
   "cell_type": "code",
   "execution_count": null,
   "metadata": {},
   "outputs": [],
   "source": [
    "test_merge = hospitals.merge(hosp_cnt,on='county')"
   ]
  },
  {
   "cell_type": "code",
   "execution_count": null,
   "metadata": {},
   "outputs": [],
   "source": [
    "test_merge.head(3).T"
   ]
  },
  {
   "cell_type": "code",
   "execution_count": null,
   "metadata": {},
   "outputs": [],
   "source": [
    "bed_cnt = hospitals.groupby('county').beds.agg('sum')"
   ]
  },
  {
   "cell_type": "code",
   "execution_count": null,
   "metadata": {},
   "outputs": [],
   "source": [
    "bed_cnt = bed_cnt.to_frame().reset_index()"
   ]
  },
  {
   "cell_type": "code",
   "execution_count": null,
   "metadata": {},
   "outputs": [],
   "source": [
    "bed_cnt"
   ]
  },
  {
   "cell_type": "code",
   "execution_count": null,
   "metadata": {},
   "outputs": [],
   "source": [
    "hosp = test_merge.merge(bed_cnt,on='county')"
   ]
  },
  {
   "cell_type": "code",
   "execution_count": null,
   "metadata": {},
   "outputs": [],
   "source": [
    "hosp.head(3).T"
   ]
  },
  {
   "cell_type": "code",
   "execution_count": null,
   "metadata": {},
   "outputs": [],
   "source": [
    "hosp = hosp.rename({'hosp_id_x': 'id', 'hosp_id_y': 'count', 'beds_x': 'beds', 'beds_y': 'bed_count'}, axis='columns')"
   ]
  },
  {
   "cell_type": "code",
   "execution_count": null,
   "metadata": {},
   "outputs": [],
   "source": [
    "hosp.head(3).T"
   ]
  },
  {
   "cell_type": "code",
   "execution_count": null,
   "metadata": {},
   "outputs": [],
   "source": [
    "hosp_merge = hosp[['county','count','bed_count']]"
   ]
  },
  {
   "cell_type": "code",
   "execution_count": null,
   "metadata": {},
   "outputs": [],
   "source": [
    "#df = df.merge(hosp_merge,on='county')\n",
    "df = df.join(hosp_merge.set_index('county'), on='county')"
   ]
  },
  {
   "cell_type": "code",
   "execution_count": null,
   "metadata": {},
   "outputs": [],
   "source": [
    "df.head(3).T"
   ]
  },
  {
   "cell_type": "code",
   "execution_count": null,
   "metadata": {},
   "outputs": [],
   "source": []
  }
 ],
 "metadata": {
  "kernelspec": {
   "display_name": "Python 3",
   "language": "python",
   "name": "python3"
  },
  "language_info": {
   "codemirror_mode": {
    "name": "ipython",
    "version": 3
   },
   "file_extension": ".py",
   "mimetype": "text/x-python",
   "name": "python",
   "nbconvert_exporter": "python",
   "pygments_lexer": "ipython3",
   "version": "3.6.4"
  }
 },
 "nbformat": 4,
 "nbformat_minor": 2
}
