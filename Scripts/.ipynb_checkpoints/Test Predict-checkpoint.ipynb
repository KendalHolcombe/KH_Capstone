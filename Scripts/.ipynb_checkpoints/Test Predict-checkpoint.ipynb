{
 "cells": [
  {
   "cell_type": "code",
   "execution_count": 1,
   "metadata": {
    "scrolled": true
   },
   "outputs": [
    {
     "name": "stderr",
     "output_type": "stream",
     "text": [
      "/home/kendal/anaconda3/lib/python3.6/site-packages/sklearn/ensemble/weight_boosting.py:29: DeprecationWarning: numpy.core.umath_tests is an internal NumPy module and should not be imported. It will be removed in a future NumPy release.\n",
      "  from numpy.core.umath_tests import inner1d\n"
     ]
    }
   ],
   "source": [
    "from Crime_Predictor_Predict import predictions\n",
    "from Crime_Predictor_Model import Crime_Model"
   ]
  },
  {
   "cell_type": "code",
   "execution_count": 2,
   "metadata": {
    "scrolled": true
   },
   "outputs": [
    {
     "name": "stdout",
     "output_type": "stream",
     "text": [
      "10 Safest Counties:               0\n",
      "BELL       0.0\n",
      "WHARTON    0.0\n",
      "TOM GREEN  0.0\n",
      "RUSK       0.0\n",
      "ROCKWALL   0.0\n",
      "POLK       0.0\n",
      "LLANO      0.0\n",
      "WICHITA    0.0\n",
      "JOHNSON    0.0\n",
      "JACKSON    0.0\n"
     ]
    }
   ],
   "source": [
    "print('10 Safest Counties: ', predictions(20, 'M', 'Homicide Offenses', 'Over 500,000')[0]) "
   ]
  },
  {
   "cell_type": "code",
   "execution_count": 3,
   "metadata": {},
   "outputs": [
    {
     "name": "stdout",
     "output_type": "stream",
     "text": [
      "Most Dangerous County:  ['SMITH']\n"
     ]
    }
   ],
   "source": [
    "print('Most Dangerous County: ', predictions(46, 'F', 'Larceny/Theft Offenses', '100,000 - 499,999')[1]) "
   ]
  }
 ],
 "metadata": {
  "kernelspec": {
   "display_name": "Python 3",
   "language": "python",
   "name": "python3"
  },
  "language_info": {
   "codemirror_mode": {
    "name": "ipython",
    "version": 3
   },
   "file_extension": ".py",
   "mimetype": "text/x-python",
   "name": "python",
   "nbconvert_exporter": "python",
   "pygments_lexer": "ipython3",
   "version": "3.6.4"
  }
 },
 "nbformat": 4,
 "nbformat_minor": 2
}
