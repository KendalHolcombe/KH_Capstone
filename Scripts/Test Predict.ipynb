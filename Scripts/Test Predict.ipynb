{
 "cells": [
  {
   "cell_type": "code",
   "execution_count": 1,
   "metadata": {
    "scrolled": true
   },
   "outputs": [
    {
     "name": "stderr",
     "output_type": "stream",
     "text": [
      "/home/kendal/anaconda3/lib/python3.6/site-packages/sklearn/ensemble/weight_boosting.py:29: DeprecationWarning: numpy.core.umath_tests is an internal NumPy module and should not be imported. It will be removed in a future NumPy release.\n",
      "  from numpy.core.umath_tests import inner1d\n"
     ]
    }
   ],
   "source": [
    "from Crime_Predictor_Predict import predictions\n",
    "from Crime_Predictor_Model import Crime_Model"
   ]
  },
  {
   "cell_type": "code",
   "execution_count": 2,
   "metadata": {
    "scrolled": true
   },
   "outputs": [
    {
     "name": "stdout",
     "output_type": "stream",
     "text": [
      "10 Safest Counties:                    0\n",
      "DENTON     0.000000\n",
      "BRAZORIA   0.000000\n",
      "VICTORIA   0.000000\n",
      "TOM GREEN  0.000000\n",
      "TARRANT    0.000000\n",
      "COLLIN     0.000000\n",
      "ROCKWALL   0.000000\n",
      "GREGG      0.000000\n",
      "HIDALGO    0.000024\n",
      "BEXAR      0.000035\n"
     ]
    }
   ],
   "source": [
    "print('10 Safest Counties: ', predictions(30, 'F', 'Sex Offenses', 'Under 10,000')[0])"
   ]
  },
  {
   "cell_type": "code",
   "execution_count": 3,
   "metadata": {},
   "outputs": [
    {
     "name": "stdout",
     "output_type": "stream",
     "text": [
      "Most Dangerous County:  ['HARDEMAN']\n"
     ]
    }
   ],
   "source": [
    "print('Most Dangerous County: ', predictions(30, 'F', 'Sex Offenses', 'Under 10,000')[1]) "
   ]
  },
  {
   "cell_type": "code",
   "execution_count": null,
   "metadata": {},
   "outputs": [],
   "source": []
  }
 ],
 "metadata": {
  "kernelspec": {
   "display_name": "Python 3",
   "language": "python",
   "name": "python3"
  },
  "language_info": {
   "codemirror_mode": {
    "name": "ipython",
    "version": 3
   },
   "file_extension": ".py",
   "mimetype": "text/x-python",
   "name": "python",
   "nbconvert_exporter": "python",
   "pygments_lexer": "ipython3",
   "version": "3.6.4"
  }
 },
 "nbformat": 4,
 "nbformat_minor": 2
}
