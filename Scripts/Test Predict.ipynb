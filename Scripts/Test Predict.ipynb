{
 "cells": [
  {
   "cell_type": "code",
   "execution_count": 6,
   "metadata": {
    "scrolled": true
   },
   "outputs": [],
   "source": [
    "from Crime_Predictor_Predict import predictions\n",
    "from Crime_Predictor_Model import Crime_Model"
   ]
  },
  {
   "cell_type": "code",
   "execution_count": 7,
   "metadata": {
    "scrolled": true
   },
   "outputs": [
    {
     "name": "stdout",
     "output_type": "stream",
     "text": [
      "10 Safest Counties:             0\n",
      "KAUFMAN  0.0\n",
      "HIDALGO  0.0\n",
      "HARRIS   0.0\n",
      "POLK     0.0\n",
      "POTTER   0.0\n",
      "GREGG    0.0\n",
      "DENTON   0.0\n",
      "DALLAS   0.0\n",
      "COLLIN   0.0\n",
      "TARRANT  0.0\n"
     ]
    }
   ],
   "source": [
    "print('10 Safest Counties: ', predictions(30, 'F', 'Sex Offenses', 'Under 25,000')[0])"
   ]
  },
  {
   "cell_type": "code",
   "execution_count": 8,
   "metadata": {},
   "outputs": [
    {
     "name": "stdout",
     "output_type": "stream",
     "text": [
      "Most Dangerous County:  ['PARKER']\n"
     ]
    }
   ],
   "source": [
    "print('Most Dangerous County: ', predictions(30, 'F', 'Sex Offenses', '100,000 - 499,999')[1]) "
   ]
  },
  {
   "cell_type": "code",
   "execution_count": null,
   "metadata": {},
   "outputs": [],
   "source": []
  }
 ],
 "metadata": {
  "kernelspec": {
   "display_name": "Python 3",
   "language": "python",
   "name": "python3"
  },
  "language_info": {
   "codemirror_mode": {
    "name": "ipython",
    "version": 3
   },
   "file_extension": ".py",
   "mimetype": "text/x-python",
   "name": "python",
   "nbconvert_exporter": "python",
   "pygments_lexer": "ipython3",
   "version": "3.6.4"
  }
 },
 "nbformat": 4,
 "nbformat_minor": 2
}
